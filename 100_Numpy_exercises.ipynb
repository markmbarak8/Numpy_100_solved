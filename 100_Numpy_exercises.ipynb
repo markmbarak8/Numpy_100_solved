{
 "cells": [
  {
   "cell_type": "markdown",
   "id": "6293cc50",
   "metadata": {},
   "source": [
    "# 100 numpy exercises\n",
    "\n",
    "This is a collection of exercises that have been collected in the numpy mailing list, on stack overflow\n",
    "and in the numpy documentation. The goal of this collection is to offer a quick reference for both old\n",
    "and new users but also to provide a set of exercises for those who teach.\n",
    "\n",
    "\n",
    "If you find an error or think you've a better way to solve some of them, feel\n",
    "free to open an issue at <https://github.com/rougier/numpy-100>."
   ]
  },
  {
   "cell_type": "markdown",
   "id": "a167c052",
   "metadata": {},
   "source": [
    "File automatically generated. See the documentation to update questions/answers/hints programmatically."
   ]
  },
  {
   "cell_type": "markdown",
   "id": "57fc0ee5",
   "metadata": {},
   "source": [
    "Run the `initialize.py` module, then for each question you can query the\n",
    "answer or an hint with `hint(n)` or `answer(n)` for `n` question number."
   ]
  },
  {
   "cell_type": "code",
   "execution_count": 2,
   "id": "3d46fba2",
   "metadata": {},
   "outputs": [],
   "source": [
    "%run initialise.py"
   ]
  },
  {
   "cell_type": "markdown",
   "id": "3c1222ff",
   "metadata": {},
   "source": [
    "#### 1. Import the numpy package under the name `np` (★☆☆)"
   ]
  },
  {
   "cell_type": "code",
   "execution_count": 3,
   "id": "f52e6a0b",
   "metadata": {},
   "outputs": [],
   "source": [
    "import numpy as np"
   ]
  },
  {
   "cell_type": "markdown",
   "id": "9d9f4753",
   "metadata": {},
   "source": [
    "#### 2. Print the numpy version and the configuration (★☆☆)"
   ]
  },
  {
   "cell_type": "code",
   "execution_count": 4,
   "id": "b7fa5fa1",
   "metadata": {},
   "outputs": [
    {
     "data": {
      "text/plain": [
       "'1.26.4'"
      ]
     },
     "execution_count": 4,
     "metadata": {},
     "output_type": "execute_result"
    }
   ],
   "source": [
    "np.__version__"
   ]
  },
  {
   "cell_type": "markdown",
   "id": "3e4c23c6",
   "metadata": {},
   "source": [
    "#### 3. Create a null vector of size 10 (★☆☆)"
   ]
  },
  {
   "cell_type": "code",
   "execution_count": 5,
   "id": "083c5c46",
   "metadata": {},
   "outputs": [
    {
     "data": {
      "text/plain": [
       "array([nan, nan, nan, nan, nan, nan, nan, nan, nan, nan])"
      ]
     },
     "execution_count": 5,
     "metadata": {},
     "output_type": "execute_result"
    }
   ],
   "source": [
    "np.zeros(10)+np.nan"
   ]
  },
  {
   "cell_type": "markdown",
   "id": "c38bbe82",
   "metadata": {},
   "source": [
    "#### 4. How to find the memory size of any array (★☆☆)"
   ]
  },
  {
   "cell_type": "code",
   "execution_count": 6,
   "id": "02b04021",
   "metadata": {},
   "outputs": [
    {
     "data": {
      "text/plain": [
       "24"
      ]
     },
     "execution_count": 6,
     "metadata": {},
     "output_type": "execute_result"
    }
   ],
   "source": [
    "array=np.array([1,2,3,4,5,6]) \n",
    "array.size*array.itemsize # array.itemsize will get the memory size of one item in the array (4 for int, 8 for float)"
   ]
  },
  {
   "cell_type": "markdown",
   "id": "67f893d4",
   "metadata": {},
   "source": [
    "#### 5. How to get the documentation of the numpy add function from the command line? (★☆☆)"
   ]
  },
  {
   "cell_type": "code",
   "execution_count": 7,
   "id": "40e6b70d",
   "metadata": {},
   "outputs": [
    {
     "name": "stdout",
     "output_type": "stream",
     "text": [
      "add(x1, x2, /, out=None, *, where=True, casting='same_kind', order='K', dtype=None, subok=True[, signature, extobj])\n",
      "\n",
      "Add arguments element-wise.\n",
      "\n",
      "Parameters\n",
      "----------\n",
      "x1, x2 : array_like\n",
      "    The arrays to be added.\n",
      "    If ``x1.shape != x2.shape``, they must be broadcastable to a common\n",
      "    shape (which becomes the shape of the output).\n",
      "out : ndarray, None, or tuple of ndarray and None, optional\n",
      "    A location into which the result is stored. If provided, it must have\n",
      "    a shape that the inputs broadcast to. If not provided or None,\n",
      "    a freshly-allocated array is returned. A tuple (possible only as a\n",
      "    keyword argument) must have length equal to the number of outputs.\n",
      "where : array_like, optional\n",
      "    This condition is broadcast over the input. At locations where the\n",
      "    condition is True, the `out` array will be set to the ufunc result.\n",
      "    Elsewhere, the `out` array will retain its original value.\n",
      "    Note that if an uninitialized `out` array is created via the default\n",
      "    ``out=None``, locations within it where the condition is False will\n",
      "    remain uninitialized.\n",
      "**kwargs\n",
      "    For other keyword-only arguments, see the\n",
      "    :ref:`ufunc docs <ufuncs.kwargs>`.\n",
      "\n",
      "Returns\n",
      "-------\n",
      "add : ndarray or scalar\n",
      "    The sum of `x1` and `x2`, element-wise.\n",
      "    This is a scalar if both `x1` and `x2` are scalars.\n",
      "\n",
      "Notes\n",
      "-----\n",
      "Equivalent to `x1` + `x2` in terms of array broadcasting.\n",
      "\n",
      "Examples\n",
      "--------\n",
      ">>> np.add(1.0, 4.0)\n",
      "5.0\n",
      ">>> x1 = np.arange(9.0).reshape((3, 3))\n",
      ">>> x2 = np.arange(3.0)\n",
      ">>> np.add(x1, x2)\n",
      "array([[  0.,   2.,   4.],\n",
      "       [  3.,   5.,   7.],\n",
      "       [  6.,   8.,  10.]])\n",
      "\n",
      "The ``+`` operator can be used as a shorthand for ``np.add`` on ndarrays.\n",
      "\n",
      ">>> x1 = np.arange(9.0).reshape((3, 3))\n",
      ">>> x2 = np.arange(3.0)\n",
      ">>> x1 + x2\n",
      "array([[ 0.,  2.,  4.],\n",
      "       [ 3.,  5.,  7.],\n",
      "       [ 6.,  8., 10.]])\n"
     ]
    }
   ],
   "source": [
    "# help(\"numpy.add\")\n",
    "np.info(np.add)"
   ]
  },
  {
   "cell_type": "markdown",
   "id": "e0c739c6",
   "metadata": {},
   "source": [
    "#### 6. Create a null vector of size 10 but the fifth value which is 1 (★☆☆)"
   ]
  },
  {
   "cell_type": "code",
   "execution_count": 8,
   "id": "bcceacf7",
   "metadata": {},
   "outputs": [
    {
     "data": {
      "text/plain": [
       "array([nan, nan, nan, nan,  1., nan, nan, nan, nan, nan])"
      ]
     },
     "execution_count": 8,
     "metadata": {},
     "output_type": "execute_result"
    }
   ],
   "source": [
    "a=np.zeros(10)+np.nan\n",
    "a[4]=1\n",
    "a"
   ]
  },
  {
   "cell_type": "markdown",
   "id": "fbebedab",
   "metadata": {},
   "source": [
    "#### 7. Create a vector with values ranging from 10 to 49 (★☆☆)"
   ]
  },
  {
   "cell_type": "code",
   "execution_count": 9,
   "id": "3d117d54",
   "metadata": {},
   "outputs": [
    {
     "data": {
      "text/plain": [
       "array([10, 11, 12, 13, 14, 15, 16, 17, 18, 19, 20, 21, 22, 23, 24, 25, 26,\n",
       "       27, 28, 29, 30, 31, 32, 33, 34, 35, 36, 37, 38, 39, 40, 41, 42, 43,\n",
       "       44, 45, 46, 47, 48])"
      ]
     },
     "execution_count": 9,
     "metadata": {},
     "output_type": "execute_result"
    }
   ],
   "source": [
    "np.arange(10,49)"
   ]
  },
  {
   "cell_type": "markdown",
   "id": "ad0bff02",
   "metadata": {},
   "source": [
    "#### 8. Reverse a vector (first element becomes last) (★☆☆)"
   ]
  },
  {
   "cell_type": "code",
   "execution_count": 10,
   "id": "22d23470",
   "metadata": {},
   "outputs": [
    {
     "data": {
      "text/plain": [
       "array([4, 3, 2, 1])"
      ]
     },
     "execution_count": 10,
     "metadata": {},
     "output_type": "execute_result"
    }
   ],
   "source": [
    "r=np.array([1,2,3,4])\n",
    "r[::-1]"
   ]
  },
  {
   "cell_type": "markdown",
   "id": "9f59d7e1",
   "metadata": {},
   "source": [
    "#### 9. Create a 3x3 matrix with values ranging from 0 to 8 (★☆☆)"
   ]
  },
  {
   "cell_type": "code",
   "execution_count": 11,
   "id": "7449e82d",
   "metadata": {},
   "outputs": [
    {
     "data": {
      "text/plain": [
       "array([[0, 1, 2],\n",
       "       [3, 4, 5],\n",
       "       [6, 7, 8]])"
      ]
     },
     "execution_count": 11,
     "metadata": {},
     "output_type": "execute_result"
    }
   ],
   "source": [
    "np.arange(9).reshape(3,3)"
   ]
  },
  {
   "cell_type": "markdown",
   "id": "f374c4cf",
   "metadata": {},
   "source": [
    "#### 10. Find indices of non-zero elements from [1,2,0,0,4,0] (★☆☆)"
   ]
  },
  {
   "cell_type": "code",
   "execution_count": 12,
   "id": "1a84bed8",
   "metadata": {},
   "outputs": [
    {
     "data": {
      "text/plain": [
       "(array([0, 1, 4], dtype=int64),)"
      ]
     },
     "execution_count": 12,
     "metadata": {},
     "output_type": "execute_result"
    }
   ],
   "source": [
    "ar=np.array([1,2,0,0,4,0])\n",
    "np.nonzero(ar)"
   ]
  },
  {
   "cell_type": "markdown",
   "id": "9c4707f5",
   "metadata": {},
   "source": [
    "#### 11. Create a 3x3 identity matrix (★☆☆)"
   ]
  },
  {
   "cell_type": "code",
   "execution_count": 13,
   "id": "29dc1fd3",
   "metadata": {},
   "outputs": [
    {
     "data": {
      "text/plain": [
       "array([[1., 0., 0.],\n",
       "       [0., 1., 0.],\n",
       "       [0., 0., 1.]])"
      ]
     },
     "execution_count": 13,
     "metadata": {},
     "output_type": "execute_result"
    }
   ],
   "source": [
    "np.identity(3)"
   ]
  },
  {
   "cell_type": "markdown",
   "id": "3bac294a",
   "metadata": {},
   "source": [
    "#### 12. Create a 3x3x3 array with random values (★☆☆)"
   ]
  },
  {
   "cell_type": "code",
   "execution_count": 14,
   "id": "eadfae67",
   "metadata": {},
   "outputs": [
    {
     "data": {
      "text/plain": [
       "array([[[0.01749027, 0.89157327, 0.28486117],\n",
       "        [0.29897638, 0.79203426, 0.3244706 ],\n",
       "        [0.86471039, 0.44751263, 0.54822991]],\n",
       "\n",
       "       [[0.35717199, 0.11231203, 0.14189715],\n",
       "        [0.44495908, 0.73198023, 0.46010123],\n",
       "        [0.59274441, 0.33671386, 0.45442782]],\n",
       "\n",
       "       [[0.18712777, 0.40883521, 0.13210204],\n",
       "        [0.03711031, 0.08198783, 0.21343995],\n",
       "        [0.54522926, 0.65506635, 0.58878792]]])"
      ]
     },
     "execution_count": 14,
     "metadata": {},
     "output_type": "execute_result"
    }
   ],
   "source": [
    "np.random.RandomState(48).random((3,3,3))"
   ]
  },
  {
   "cell_type": "markdown",
   "id": "466c2989",
   "metadata": {},
   "source": [
    "#### 13. Create a 10x10 array with random values and find the minimum and maximum values (★☆☆)"
   ]
  },
  {
   "cell_type": "code",
   "execution_count": 15,
   "id": "9a74dbfc",
   "metadata": {},
   "outputs": [
    {
     "name": "stdout",
     "output_type": "stream",
     "text": [
      "Min value : 0.0007973040569280165\n",
      "Max value : 0.99175535046795\n"
     ]
    }
   ],
   "source": [
    "m=np.random.RandomState(48).random(size=(10,10))\n",
    "print(f\"Min value : {m.min()}\")\n",
    "print(f\"Max value : {m.max()}\")"
   ]
  },
  {
   "cell_type": "markdown",
   "id": "53a8edb2",
   "metadata": {},
   "source": [
    "#### 14. Create a random vector of size 30 and find the mean value (★☆☆)"
   ]
  },
  {
   "cell_type": "code",
   "execution_count": 16,
   "id": "6691530b",
   "metadata": {},
   "outputs": [
    {
     "data": {
      "text/plain": [
       "0.4080698217711573"
      ]
     },
     "execution_count": 16,
     "metadata": {},
     "output_type": "execute_result"
    }
   ],
   "source": [
    "v=np.random.RandomState(48).random(30)\n",
    "v.mean()"
   ]
  },
  {
   "cell_type": "markdown",
   "id": "cbaad31c",
   "metadata": {},
   "source": [
    "#### 15. Create a 2d array with 1 on the border and 0 inside (★☆☆)"
   ]
  },
  {
   "cell_type": "code",
   "execution_count": 17,
   "id": "ad8308e3",
   "metadata": {},
   "outputs": [
    {
     "data": {
      "text/plain": [
       "array([[1., 1., 1., 1.],\n",
       "       [1., 0., 0., 1.],\n",
       "       [1., 0., 0., 1.],\n",
       "       [1., 1., 1., 1.]])"
      ]
     },
     "execution_count": 17,
     "metadata": {},
     "output_type": "execute_result"
    }
   ],
   "source": [
    "q=np.ones((4,4))\n",
    "q[1:len(q)-1,1:len(q)-1]=0\n",
    "q"
   ]
  },
  {
   "cell_type": "markdown",
   "id": "c5ecc267",
   "metadata": {},
   "source": [
    "#### 16. How to add a border (filled with 0's) around an existing array? (★☆☆)"
   ]
  },
  {
   "cell_type": "code",
   "execution_count": 18,
   "id": "9d5c78c4",
   "metadata": {},
   "outputs": [
    {
     "data": {
      "text/plain": [
       "array([[0, 0, 0, 0],\n",
       "       [0, 1, 2, 0],\n",
       "       [0, 3, 4, 0],\n",
       "       [0, 0, 0, 0]])"
      ]
     },
     "execution_count": 18,
     "metadata": {},
     "output_type": "execute_result"
    }
   ],
   "source": [
    "v=np.array([[1,2],[3,4]])\n",
    "np.pad(v,1,mode=\"constant\",constant_values=0)"
   ]
  },
  {
   "cell_type": "markdown",
   "id": "ef909b72",
   "metadata": {},
   "source": [
    "#### 17. What is the result of the following expression? (★☆☆)\n",
    "```python\n",
    "0 * np.nan\n",
    "np.nan == np.nan\n",
    "np.inf > np.nan\n",
    "np.nan - np.nan\n",
    "np.nan in set([np.nan])\n",
    "0.3 == 3 * 0.1\n",
    "```"
   ]
  },
  {
   "cell_type": "code",
   "execution_count": 19,
   "id": "3b4985f2",
   "metadata": {},
   "outputs": [],
   "source": [
    "#0 * np.nan -> nan\n",
    "#np.nan == np.nan -> False\n",
    "#np.inf > np.nan -> False\n",
    "#np.nan - np.nan -> False\n",
    "#np.nan in set([np.nan]) -> False\n",
    "#0.3 == 3 * 0.1 -> False"
   ]
  },
  {
   "cell_type": "markdown",
   "id": "502738ac",
   "metadata": {},
   "source": [
    "#### 18. Create a 5x5 matrix with values 1,2,3,4 just below the diagonal (★☆☆)"
   ]
  },
  {
   "cell_type": "code",
   "execution_count": 20,
   "id": "faed6e2b",
   "metadata": {},
   "outputs": [
    {
     "data": {
      "text/plain": [
       "array([[0, 0, 0, 0, 0],\n",
       "       [1, 0, 0, 0, 0],\n",
       "       [0, 2, 0, 0, 0],\n",
       "       [0, 0, 3, 0, 0],\n",
       "       [0, 0, 0, 4, 0]])"
      ]
     },
     "execution_count": 20,
     "metadata": {},
     "output_type": "execute_result"
    }
   ],
   "source": [
    "np.diag([1,2,3,4],k=-1)"
   ]
  },
  {
   "cell_type": "markdown",
   "id": "a65da660",
   "metadata": {},
   "source": [
    "#### 19. Create a 8x8 matrix and fill it with a checkerboard pattern (★☆☆)"
   ]
  },
  {
   "cell_type": "code",
   "execution_count": 21,
   "id": "ed150400",
   "metadata": {},
   "outputs": [
    {
     "data": {
      "text/plain": [
       "array([[0, 1, 0, 1, 0, 1, 0, 1],\n",
       "       [1, 0, 1, 0, 1, 0, 1, 0],\n",
       "       [0, 1, 0, 1, 0, 1, 0, 1],\n",
       "       [1, 0, 1, 0, 1, 0, 1, 0],\n",
       "       [0, 1, 0, 1, 0, 1, 0, 1],\n",
       "       [1, 0, 1, 0, 1, 0, 1, 0],\n",
       "       [0, 1, 0, 1, 0, 1, 0, 1],\n",
       "       [1, 0, 1, 0, 1, 0, 1, 0]])"
      ]
     },
     "execution_count": 21,
     "metadata": {},
     "output_type": "execute_result"
    }
   ],
   "source": [
    "np.tile([[0,1],[1,0]],[4,4])"
   ]
  },
  {
   "cell_type": "markdown",
   "id": "9f7f9c49",
   "metadata": {},
   "source": [
    "#### 20. Consider a (6,7,8) shape array, what is the index (x,y,z) of the 100th element? (★☆☆)"
   ]
  },
  {
   "cell_type": "code",
   "execution_count": 22,
   "id": "3782b5a9",
   "metadata": {},
   "outputs": [
    {
     "data": {
      "text/plain": [
       "(1, 5, 3)"
      ]
     },
     "execution_count": 22,
     "metadata": {},
     "output_type": "execute_result"
    }
   ],
   "source": [
    "np.unravel_index(99,(6,7,8))"
   ]
  },
  {
   "cell_type": "markdown",
   "id": "66bfda35",
   "metadata": {},
   "source": [
    "#### 21. Create a checkerboard 8x8 matrix using the tile function (★☆☆)"
   ]
  },
  {
   "cell_type": "code",
   "execution_count": 23,
   "id": "4c07477c",
   "metadata": {},
   "outputs": [
    {
     "data": {
      "text/plain": [
       "array([[1, 0, 1, 0, 1, 0, 1, 0],\n",
       "       [0, 1, 0, 1, 0, 1, 0, 1],\n",
       "       [1, 0, 1, 0, 1, 0, 1, 0],\n",
       "       [0, 1, 0, 1, 0, 1, 0, 1],\n",
       "       [1, 0, 1, 0, 1, 0, 1, 0],\n",
       "       [0, 1, 0, 1, 0, 1, 0, 1],\n",
       "       [1, 0, 1, 0, 1, 0, 1, 0],\n",
       "       [0, 1, 0, 1, 0, 1, 0, 1]])"
      ]
     },
     "execution_count": 23,
     "metadata": {},
     "output_type": "execute_result"
    }
   ],
   "source": [
    "np.tile([[1,0],[0,1]],[4,4])"
   ]
  },
  {
   "cell_type": "markdown",
   "id": "d5bcfc08",
   "metadata": {},
   "source": [
    "#### 22. Normalize a 5x5 random matrix (★☆☆)"
   ]
  },
  {
   "cell_type": "code",
   "execution_count": 24,
   "id": "cea6c993",
   "metadata": {},
   "outputs": [
    {
     "name": "stdout",
     "output_type": "stream",
     "text": [
      "[[4 0 1 5 0]\n",
      " [3 1 2 7 0]\n",
      " [3 2 9 1 2]\n",
      " [2 3 5 4 4]\n",
      " [0 5 8 0 0]]\n"
     ]
    },
    {
     "data": {
      "text/plain": [
       "array([[5.33905355e-05, 1.59154943e-01, 9.65323526e-02, 5.93115274e-07,\n",
       "        1.59154943e-01],\n",
       "       [1.76805171e-03, 9.65323526e-02, 2.15392793e-02, 3.64422619e-12,\n",
       "        1.59154943e-01],\n",
       "       [1.76805171e-03, 2.15392793e-02, 4.10103631e-19, 9.65323526e-02,\n",
       "        2.15392793e-02],\n",
       "       [2.15392793e-02, 1.76805171e-03, 5.93115274e-07, 5.33905355e-05,\n",
       "        5.33905355e-05],\n",
       "       [1.59154943e-01, 5.93115274e-07, 2.01556455e-15, 1.59154943e-01,\n",
       "        1.59154943e-01]])"
      ]
     },
     "execution_count": 24,
     "metadata": {},
     "output_type": "execute_result"
    }
   ],
   "source": [
    "print(r:=np.random.RandomState(43).randint(0,10,(5,5)))\n",
    "#Formula of normal distribution : (1/2pi)*e^(-((x^2)/2))\n",
    "np.exp(-((np.square(r))/2))/(2*np.pi)"
   ]
  },
  {
   "cell_type": "markdown",
   "id": "f9a0911e",
   "metadata": {},
   "source": [
    "#### 23. Create a custom dtype that describes a color as four unsigned bytes (RGBA) (★☆☆)"
   ]
  },
  {
   "cell_type": "code",
   "execution_count": 25,
   "id": "d165044b",
   "metadata": {},
   "outputs": [],
   "source": [
    "dtype=np.dtype([(\"r\",float),(\"g\",float),(\"b\",float),(\"a\",float)])"
   ]
  },
  {
   "cell_type": "markdown",
   "id": "654805b1",
   "metadata": {},
   "source": [
    "#### 24. Multiply a 5x3 matrix by a 3x2 matrix (real matrix product) (★☆☆)"
   ]
  },
  {
   "cell_type": "code",
   "execution_count": 26,
   "id": "6a42619f",
   "metadata": {},
   "outputs": [
    {
     "data": {
      "text/plain": [
       "array([[ 24,  62],\n",
       "       [ 88, 445],\n",
       "       [ 71, 130],\n",
       "       [ 89, 419],\n",
       "       [101, 238]])"
      ]
     },
     "execution_count": 26,
     "metadata": {},
     "output_type": "execute_result"
    }
   ],
   "source": [
    "a=np.array([[4,6,2],[1,71,3],[12,7,8],[5,64,3],[21,19,8]])\n",
    "b=np.array([[2,4],[1,6],[5,5]])\n",
    "np.matmul(a,b)\n",
    "np.dot(a,b)\n",
    "np.einsum(\"ij,jr->ir\",a,b)"
   ]
  },
  {
   "cell_type": "markdown",
   "id": "994c25df",
   "metadata": {},
   "source": [
    "#### 25. Given a 1D array, negate all elements which are between 3 and 8, in place. (★☆☆)"
   ]
  },
  {
   "cell_type": "code",
   "execution_count": 27,
   "id": "e4b39c03",
   "metadata": {},
   "outputs": [
    {
     "name": "stdout",
     "output_type": "stream",
     "text": [
      "[6 3 7 4 6 9 2 6]\n"
     ]
    },
    {
     "data": {
      "text/plain": [
       "array([5, 3, 6, 3, 5, 9, 2, 5])"
      ]
     },
     "execution_count": 27,
     "metadata": {},
     "output_type": "execute_result"
    }
   ],
   "source": [
    "w=np.random.RandomState(42).randint(10,size=8)\n",
    "print(w)\n",
    "w[(w>3)&(w<8)]-=1\n",
    "w"
   ]
  },
  {
   "cell_type": "markdown",
   "id": "b7d15d1a",
   "metadata": {},
   "source": [
    "#### 26. What is the output of the following script? (★☆☆)\n",
    "```python\n",
    "# Author: Jake VanderPlas\n",
    "\n",
    "print(sum(range(5),-1))\n",
    "from numpy import *\n",
    "print(sum(range(5),-1))\n",
    "```"
   ]
  },
  {
   "cell_type": "code",
   "execution_count": 28,
   "id": "4c95bc3f",
   "metadata": {},
   "outputs": [],
   "source": [
    "#The sum function in the first print statement is the builtin sum function in python which sums all elements \n",
    "#iterable and integers the result will be : 0+1+2+3+4-1 = 9 (first summing over range(5):0+1+2+3+4 then adding -1)\n",
    "\n",
    "#After we import everything from numpy, the sum function is included and is called in the second print statement\n",
    "#however this function takes two arguments: the iterable or range which in this case is range(5), and the \n",
    "#dimension to sum over which is -1 (equivalent to the first dimension.), meaning we are no longer adding -1 to the equation\n",
    "#and the result is : 0+1+2+3+4 = 10"
   ]
  },
  {
   "cell_type": "markdown",
   "id": "a34f0d08",
   "metadata": {},
   "source": [
    "#### 27. Consider an integer vector Z, which of these expressions are legal? (★☆☆)\n",
    "```python\n",
    "Z**Z\n",
    "2 << Z >> 2\n",
    "Z <- Z\n",
    "1j*Z\n",
    "Z/1/1\n",
    "Z<Z>Z\n",
    "```"
   ]
  },
  {
   "cell_type": "code",
   "execution_count": 29,
   "id": "564658fc",
   "metadata": {},
   "outputs": [
    {
     "data": {
      "text/plain": [
       "array([False])"
      ]
     },
     "execution_count": 29,
     "metadata": {},
     "output_type": "execute_result"
    }
   ],
   "source": [
    "z=np.array([3])\n",
    "z**z\n",
    "2<<z>>2\n",
    "z<-z\n",
    "1j*z\n",
    "z/1/1\n",
    "z<z>z"
   ]
  },
  {
   "cell_type": "markdown",
   "id": "c34e94bf",
   "metadata": {},
   "source": [
    "#### 28. What are the result of the following expressions? (★☆☆)\n",
    "```python\n",
    "np.array(0) / np.array(0)\n",
    "np.array(0) // np.array(0)\n",
    "np.array([np.nan]).astype(int).astype(float)\n",
    "```"
   ]
  },
  {
   "cell_type": "code",
   "execution_count": 30,
   "id": "56663562",
   "metadata": {},
   "outputs": [],
   "source": [
    "# np.array(0)/np.array(0) -> nan\n",
    "# np.array(0)//np.array(0) -> 0\n",
    "# np.array([np.nan]).astype(int).astype(float) -> array([-2.14748365e+09])"
   ]
  },
  {
   "cell_type": "markdown",
   "id": "546f5e7b",
   "metadata": {},
   "source": [
    "#### 29. How to round away from zero a float array ? (★☆☆)"
   ]
  },
  {
   "cell_type": "code",
   "execution_count": 31,
   "id": "f725a6d2",
   "metadata": {},
   "outputs": [
    {
     "name": "stdout",
     "output_type": "stream",
     "text": [
      "[ 0.2438351  -0.74731818 -1.56117699 -0.46425312 -0.35206234 -1.28149188\n",
      "  0.28929924  0.9800285   0.47792422  0.45081813  0.75244345 -0.51057179\n",
      " -0.70575214 -0.42431725 -0.23216213  1.81514048 -2.09474937  1.03595611\n",
      " -1.43414066 -0.2782287 ]\n"
     ]
    },
    {
     "data": {
      "text/plain": [
       "array([ 1., -1., -2., -1., -1., -2.,  1.,  1.,  1.,  1.,  1., -1., -1.,\n",
       "       -1., -1.,  2., -3.,  2., -2., -1.])"
      ]
     },
     "execution_count": 31,
     "metadata": {},
     "output_type": "execute_result"
    }
   ],
   "source": [
    "r=np.random.RandomState(34).randn(20)\n",
    "print(r)\n",
    "np.where(r>0,np.ceil(r),np.floor(r))"
   ]
  },
  {
   "cell_type": "markdown",
   "id": "eadca856",
   "metadata": {},
   "source": [
    "#### 30. How to find common values between two arrays? (★☆☆)"
   ]
  },
  {
   "cell_type": "code",
   "execution_count": 32,
   "id": "e0270b5b",
   "metadata": {},
   "outputs": [
    {
     "data": {
      "text/plain": [
       "array([2, 4])"
      ]
     },
     "execution_count": 32,
     "metadata": {},
     "output_type": "execute_result"
    }
   ],
   "source": [
    "x=np.array([4,7,8,2,2])\n",
    "y=np.array([3,9,4,2])\n",
    "# x[np.isin(x,y,True)]\n",
    "np.intersect1d(x,y)"
   ]
  },
  {
   "cell_type": "markdown",
   "id": "ca16ca22",
   "metadata": {},
   "source": [
    "#### 31. How to ignore all numpy warnings (not recommended)? (★☆☆)"
   ]
  },
  {
   "cell_type": "code",
   "execution_count": 33,
   "id": "7d7208ef",
   "metadata": {},
   "outputs": [
    {
     "name": "stdout",
     "output_type": "stream",
     "text": [
      "nan\n"
     ]
    }
   ],
   "source": [
    "with np.errstate(all=\"ignore\"):\n",
    "    print(np.array(0)/np.array(0))"
   ]
  },
  {
   "cell_type": "markdown",
   "id": "c7871d0d",
   "metadata": {},
   "source": [
    "#### 32. Is the following expressions true? (★☆☆)\n",
    "```python\n",
    "np.sqrt(-1) == np.emath.sqrt(-1)\n",
    "```"
   ]
  },
  {
   "cell_type": "code",
   "execution_count": 34,
   "id": "acc3701a",
   "metadata": {},
   "outputs": [
    {
     "name": "stderr",
     "output_type": "stream",
     "text": [
      "C:\\Users\\mcc.DESKTOP-470HVN8\\AppData\\Local\\Temp\\ipykernel_3316\\2234558210.py:3: RuntimeWarning: invalid value encountered in sqrt\n",
      "  np.sqrt(-1) == np.emath.sqrt(-1)\n"
     ]
    },
    {
     "data": {
      "text/plain": [
       "False"
      ]
     },
     "execution_count": 34,
     "metadata": {},
     "output_type": "execute_result"
    }
   ],
   "source": [
    "# np.sqrt(-1) will return nan with a warning that we cannot square root negative values\n",
    "# while np.emath.sqrt(-1) will return 1j as it will treat -1 as j^2\n",
    "np.sqrt(-1) == np.emath.sqrt(-1)"
   ]
  },
  {
   "cell_type": "markdown",
   "id": "e0433e30",
   "metadata": {},
   "source": [
    "#### 33. How to get the dates of yesterday, today and tomorrow? (★☆☆)"
   ]
  },
  {
   "cell_type": "code",
   "execution_count": 35,
   "id": "9c4d2152",
   "metadata": {},
   "outputs": [
    {
     "name": "stdout",
     "output_type": "stream",
     "text": [
      "Today is : 2024-09-27.\n",
      "Tomorrow is : 2024-09-28.\n",
      "Yesterday was : 2024-09-26.\n"
     ]
    }
   ],
   "source": [
    "today=np.datetime64(\"today\",\"D\")\n",
    "tomorrow=today+np.timedelta64(1)\n",
    "yesterday=today-np.timedelta64(1)\n",
    "print(f\"Today is : {today}.\")\n",
    "print(f\"Tomorrow is : {tomorrow}.\")\n",
    "print(f\"Yesterday was : {yesterday}.\")"
   ]
  },
  {
   "cell_type": "markdown",
   "id": "9f52a2ef",
   "metadata": {},
   "source": [
    "#### 34. How to get all the dates corresponding to the month of July 2016? (★★☆)"
   ]
  },
  {
   "cell_type": "code",
   "execution_count": 36,
   "id": "d6c34dec",
   "metadata": {},
   "outputs": [
    {
     "data": {
      "text/plain": [
       "array(['2016-07-01', '2016-07-02', '2016-07-03', '2016-07-04',\n",
       "       '2016-07-05', '2016-07-06', '2016-07-07', '2016-07-08',\n",
       "       '2016-07-09', '2016-07-10', '2016-07-11', '2016-07-12',\n",
       "       '2016-07-13', '2016-07-14', '2016-07-15', '2016-07-16',\n",
       "       '2016-07-17', '2016-07-18', '2016-07-19', '2016-07-20',\n",
       "       '2016-07-21', '2016-07-22', '2016-07-23', '2016-07-24',\n",
       "       '2016-07-25', '2016-07-26', '2016-07-27', '2016-07-28',\n",
       "       '2016-07-29', '2016-07-30', '2016-07-31'], dtype='datetime64[D]')"
      ]
     },
     "execution_count": 36,
     "metadata": {},
     "output_type": "execute_result"
    }
   ],
   "source": [
    "np.arange(\"2016-07\",\"2016-08\",dtype=\"datetime64[D]\")"
   ]
  },
  {
   "cell_type": "markdown",
   "id": "4a64e059",
   "metadata": {},
   "source": [
    "#### 35. How to compute ((A+B)*(-A/2)) in place (without copy)? (★★☆)"
   ]
  },
  {
   "cell_type": "code",
   "execution_count": 37,
   "id": "49267f60",
   "metadata": {},
   "outputs": [
    {
     "data": {
      "text/plain": [
       "array([ -3.,  -7., -12.], dtype=float32)"
      ]
     },
     "execution_count": 37,
     "metadata": {},
     "output_type": "execute_result"
    }
   ],
   "source": [
    "A=np.array([1,2,3],dtype=np.float32)\n",
    "B=np.array([5,5,5],dtype=np.float32)\n",
    "np.add(A,B,out=B)\n",
    "np.negative(A,out=A)\n",
    "np.divide(A,2,out=A)\n",
    "np.multiply(A,B,out=A)\n",
    "A"
   ]
  },
  {
   "cell_type": "markdown",
   "id": "8a98c2a8",
   "metadata": {},
   "source": [
    "#### 36. Extract the integer part of a random array of positive numbers using 4 different methods (★★☆)"
   ]
  },
  {
   "cell_type": "code",
   "execution_count": 38,
   "id": "368130b3",
   "metadata": {},
   "outputs": [
    {
     "data": {
      "text/plain": [
       "array([2., 6., 3., 1., 8.])"
      ]
     },
     "execution_count": 38,
     "metadata": {},
     "output_type": "execute_result"
    }
   ],
   "source": [
    "k=np.array([2.6,6.8,3.4,1.2,8.7])\n",
    "\n",
    "#method 1 : np.floor\n",
    "np.floor(k)\n",
    "\n",
    "#method 2 : type casting\n",
    "k.astype(np.int8)\n",
    "\n",
    "#method 3 : np.trunc\n",
    "np.trunc(k)\n",
    "\n",
    "#method 4 :  \n",
    "k-k%1"
   ]
  },
  {
   "cell_type": "markdown",
   "id": "5a2e3d85",
   "metadata": {},
   "source": [
    "#### 37. Create a 5x5 matrix with row values ranging from 0 to 4 (★★☆)"
   ]
  },
  {
   "cell_type": "code",
   "execution_count": 39,
   "id": "1d974e8f",
   "metadata": {},
   "outputs": [
    {
     "data": {
      "text/plain": [
       "array([[0, 1, 2, 3, 4],\n",
       "       [0, 1, 2, 3, 4],\n",
       "       [0, 1, 2, 3, 4],\n",
       "       [0, 1, 2, 3, 4],\n",
       "       [0, 1, 2, 3, 4]])"
      ]
     },
     "execution_count": 39,
     "metadata": {},
     "output_type": "execute_result"
    }
   ],
   "source": [
    "np.tile(np.arange(5),[5,1])"
   ]
  },
  {
   "cell_type": "markdown",
   "id": "9720e2d5",
   "metadata": {},
   "source": [
    "#### 38. Consider a generator function that generates 10 integers and use it to build an array (★☆☆)"
   ]
  },
  {
   "cell_type": "code",
   "execution_count": 40,
   "id": "e5dd8fc9",
   "metadata": {},
   "outputs": [
    {
     "data": {
      "text/plain": [
       "array([4, 4, 2, 0, 8, 9, 0, 4, 5, 2])"
      ]
     },
     "execution_count": 40,
     "metadata": {},
     "output_type": "execute_result"
    }
   ],
   "source": [
    "def generator_function():\n",
    "        return [np.random.randint(10) for i in range(10)]\n",
    "np.fromiter(generator_function(),dtype=np.int32)"
   ]
  },
  {
   "cell_type": "markdown",
   "id": "c6f2c912",
   "metadata": {},
   "source": [
    "#### 39. Create a vector of size 10 with values ranging from 0 to 1, both excluded (★★☆)"
   ]
  },
  {
   "cell_type": "code",
   "execution_count": 41,
   "id": "6aaa27d3",
   "metadata": {},
   "outputs": [
    {
     "data": {
      "text/plain": [
       "array([0.36882207, 0.62402012, 0.83957296, 0.05071588, 0.96071738,\n",
       "       0.89668445, 0.76857666, 0.78676366, 0.76234597, 0.37753426])"
      ]
     },
     "execution_count": 41,
     "metadata": {},
     "output_type": "execute_result"
    }
   ],
   "source": [
    "np.random.uniform(size=10)"
   ]
  },
  {
   "cell_type": "markdown",
   "id": "a36d6ee4",
   "metadata": {},
   "source": [
    "#### 40. Create a random vector of size 10 and sort it (★★☆)"
   ]
  },
  {
   "cell_type": "code",
   "execution_count": 42,
   "id": "e589d216",
   "metadata": {},
   "outputs": [
    {
     "name": "stdout",
     "output_type": "stream",
     "text": [
      "[0.98901151 0.54954473 0.2814473  0.07728957 0.4444695  0.47280797\n",
      " 0.048522   0.16332445 0.11595071 0.62739168]\n"
     ]
    },
    {
     "data": {
      "text/plain": [
       "array([0.048522  , 0.07728957, 0.11595071, 0.16332445, 0.2814473 ,\n",
       "       0.4444695 , 0.47280797, 0.54954473, 0.62739168, 0.98901151])"
      ]
     },
     "execution_count": 42,
     "metadata": {},
     "output_type": "execute_result"
    }
   ],
   "source": [
    "print(v:=np.random.RandomState(45).random(size=10))\n",
    "v.sort(kind=\"heapsort\")\n",
    "v"
   ]
  },
  {
   "cell_type": "markdown",
   "id": "0fb4ad68",
   "metadata": {},
   "source": [
    "#### 41. How to sum a small array faster than np.sum? (★★☆)"
   ]
  },
  {
   "cell_type": "code",
   "execution_count": 43,
   "id": "a1ba05a0",
   "metadata": {},
   "outputs": [
    {
     "data": {
      "text/plain": [
       "6"
      ]
     },
     "execution_count": 43,
     "metadata": {},
     "output_type": "execute_result"
    }
   ],
   "source": [
    "np.add.reduce(np.array([1,2,3]),keepdims=False)"
   ]
  },
  {
   "cell_type": "markdown",
   "id": "024ac365",
   "metadata": {},
   "source": [
    "#### 42. Consider two random array A and B, check if they are equal (★★☆)"
   ]
  },
  {
   "cell_type": "code",
   "execution_count": 44,
   "id": "7db3846d",
   "metadata": {},
   "outputs": [
    {
     "data": {
      "text/plain": [
       "False"
      ]
     },
     "execution_count": 44,
     "metadata": {},
     "output_type": "execute_result"
    }
   ],
   "source": [
    "A=np.array([1,4,2,6])\n",
    "B=np.array([1,4,2,7])\n",
    "np.allclose(A,B) #Allclose works with arrays of the same size only and checks for each index if the elements are equal\n",
    "\n",
    "A=np.array([9,8,6,5])\n",
    "B=np.array([9,8,6,5,4,3])\n",
    "np.array_equal(A,B) #Array_equal compares the length of the arrays and then checks for the elements"
   ]
  },
  {
   "cell_type": "markdown",
   "id": "c68d2401",
   "metadata": {},
   "source": [
    "#### 43. Make an array immutable (read-only) (★★☆)"
   ]
  },
  {
   "cell_type": "code",
   "execution_count": 45,
   "id": "7828539d",
   "metadata": {},
   "outputs": [
    {
     "ename": "ValueError",
     "evalue": "assignment destination is read-only",
     "output_type": "error",
     "traceback": [
      "\u001b[1;31m---------------------------------------------------------------------------\u001b[0m",
      "\u001b[1;31mValueError\u001b[0m                                Traceback (most recent call last)",
      "Cell \u001b[1;32mIn[45], line 3\u001b[0m\n\u001b[0;32m      1\u001b[0m i\u001b[38;5;241m=\u001b[39mnp\u001b[38;5;241m.\u001b[39marray([\u001b[38;5;241m4\u001b[39m,\u001b[38;5;241m7\u001b[39m,\u001b[38;5;241m9\u001b[39m])\n\u001b[0;32m      2\u001b[0m i\u001b[38;5;241m.\u001b[39msetflags(write\u001b[38;5;241m=\u001b[39m\u001b[38;5;28;01mFalse\u001b[39;00m)\n\u001b[1;32m----> 3\u001b[0m \u001b[43mi\u001b[49m\u001b[43m[\u001b[49m\u001b[38;5;241;43m1\u001b[39;49m\u001b[43m]\u001b[49m\u001b[38;5;241m=\u001b[39m\u001b[38;5;241m0\u001b[39m\n",
      "\u001b[1;31mValueError\u001b[0m: assignment destination is read-only"
     ]
    }
   ],
   "source": [
    "i=np.array([4,7,9])\n",
    "i.setflags(write=False)\n",
    "i[1]=0"
   ]
  },
  {
   "cell_type": "markdown",
   "id": "55df6280",
   "metadata": {},
   "source": [
    "#### 44. Consider a random 10x2 matrix representing cartesian coordinates, convert them to polar coordinates (★★☆)"
   ]
  },
  {
   "cell_type": "code",
   "execution_count": 128,
   "id": "f1c86ea0",
   "metadata": {},
   "outputs": [
    {
     "name": "stdout",
     "output_type": "stream",
     "text": [
      "[[1 4]\n",
      " [2 5]\n",
      " [1 1]\n",
      " [7 7]\n",
      " [3 1]\n",
      " [7 7]\n",
      " [1 8]\n",
      " [9 3]\n",
      " [3 6]\n",
      " [3 6]]\n"
     ]
    },
    {
     "data": {
      "text/plain": [
       "array([[ 4,  1],\n",
       "       [10,  1],\n",
       "       [ 1,  0],\n",
       "       [49,  0],\n",
       "       [ 3,  0],\n",
       "       [49,  0],\n",
       "       [ 8,  1],\n",
       "       [27,  0],\n",
       "       [18,  1],\n",
       "       [18,  1]])"
      ]
     },
     "execution_count": 128,
     "metadata": {},
     "output_type": "execute_result"
    }
   ],
   "source": [
    "print(q:=np.random.RandomState(48).randint(1,10,size=(10,2)))\n",
    "r=np.sqrt(np.square(q[:,0])*np.square(q[:,1]))\n",
    "o=np.arctan(q[:,1]/q[:,0])\n",
    "q[:,0]=r\n",
    "q[:,1]=o\n",
    "q"
   ]
  },
  {
   "cell_type": "markdown",
   "id": "2f60f1ec",
   "metadata": {},
   "source": [
    "#### 45. Create random vector of size 10 and replace the maximum value by 0 (★★☆)"
   ]
  },
  {
   "cell_type": "code",
   "execution_count": 129,
   "id": "d9f48f1c",
   "metadata": {},
   "outputs": [
    {
     "name": "stdout",
     "output_type": "stream",
     "text": [
      "[0.85888927 0.37271115 0.55512878 0.95565655 0.7366696  0.81620514\n",
      " 0.10108656 0.92848807 0.60910917 0.59655344]\n"
     ]
    },
    {
     "data": {
      "text/plain": [
       "array([0.85888927, 0.37271115, 0.55512878, 0.        , 0.7366696 ,\n",
       "       0.81620514, 0.10108656, 0.92848807, 0.60910917, 0.59655344])"
      ]
     },
     "execution_count": 129,
     "metadata": {},
     "output_type": "execute_result"
    }
   ],
   "source": [
    "h=np.random.RandomState(32).random(10)\n",
    "print(h)\n",
    "h[h==h.max()]=0\n",
    "h"
   ]
  },
  {
   "cell_type": "markdown",
   "id": "084e8ad4",
   "metadata": {},
   "source": [
    "#### 46. Create a structured array with `x` and `y` coordinates covering the [0,1]x[0,1] area (★★☆)"
   ]
  },
  {
   "cell_type": "code",
   "execution_count": 142,
   "id": "58b47c13",
   "metadata": {},
   "outputs": [
    {
     "data": {
      "text/plain": [
       "array([[(0.  , 0.  ), (0.25, 0.  ), (0.5 , 0.  ), (0.75, 0.  ),\n",
       "        (1.  , 0.  )],\n",
       "       [(0.  , 0.25), (0.25, 0.25), (0.5 , 0.25), (0.75, 0.25),\n",
       "        (1.  , 0.25)],\n",
       "       [(0.  , 0.5 ), (0.25, 0.5 ), (0.5 , 0.5 ), (0.75, 0.5 ),\n",
       "        (1.  , 0.5 )],\n",
       "       [(0.  , 0.75), (0.25, 0.75), (0.5 , 0.75), (0.75, 0.75),\n",
       "        (1.  , 0.75)],\n",
       "       [(0.  , 1.  ), (0.25, 1.  ), (0.5 , 1.  ), (0.75, 1.  ),\n",
       "        (1.  , 1.  )]], dtype=[('x', '<f8'), ('y', '<f8')])"
      ]
     },
     "execution_count": 142,
     "metadata": {},
     "output_type": "execute_result"
    }
   ],
   "source": [
    "z=np.zeros([5,5],[(\"x\",float),(\"y\",float)])\n",
    "z[\"x\"],z[\"y\"]=np.meshgrid(np.linspace(0,1,5),np.linspace(0,1,5))\n",
    "z"
   ]
  },
  {
   "cell_type": "markdown",
   "id": "d7b9bc42",
   "metadata": {},
   "source": [
    "#### 47. Given two arrays, X and Y, construct the Cauchy matrix C (Cij =1/(xi - yj)) (★★☆)"
   ]
  },
  {
   "cell_type": "code",
   "execution_count": 154,
   "id": "a24824fb",
   "metadata": {},
   "outputs": [
    {
     "data": {
      "text/plain": [
       "array([[ 0.5       , -0.11111111, -0.125     , -0.06666667, -0.05      ],\n",
       "       [ 0.125     , -0.33333333, -0.5       , -0.11111111, -0.07142857],\n",
       "       [ 1.        , -0.1       , -0.11111111, -0.0625    , -0.04761905],\n",
       "       [ 0.03571429,  0.05882353,  0.05555556,  0.09090909,  0.16666667],\n",
       "       [ 0.125     , -0.33333333, -0.5       , -0.11111111, -0.07142857]])"
      ]
     },
     "execution_count": 154,
     "metadata": {},
     "output_type": "execute_result"
    }
   ],
   "source": [
    "X=np.array([6,12,5,32,12])\n",
    "Y=np.array([4,15,14,21,26])\n",
    "\n",
    "C=1/np.subtract.outer(X,Y)\n",
    "C"
   ]
  },
  {
   "cell_type": "markdown",
   "id": "65ebc11b",
   "metadata": {},
   "source": [
    "#### 48. Print the minimum and maximum representable value for each numpy scalar type (★★☆)"
   ]
  },
  {
   "cell_type": "code",
   "execution_count": 170,
   "id": "e45d38fb",
   "metadata": {},
   "outputs": [
    {
     "name": "stdout",
     "output_type": "stream",
     "text": [
      "Machine parameters for int8\n",
      "---------------------------------------------------------------\n",
      "min = -128\n",
      "max = 127\n",
      "---------------------------------------------------------------\n",
      "\n",
      "\n",
      "Machine parameters for int16\n",
      "---------------------------------------------------------------\n",
      "min = -32768\n",
      "max = 32767\n",
      "---------------------------------------------------------------\n",
      "\n",
      "\n",
      "Machine parameters for int32\n",
      "---------------------------------------------------------------\n",
      "min = -2147483648\n",
      "max = 2147483647\n",
      "---------------------------------------------------------------\n",
      "\n",
      "\n",
      "Machine parameters for int64\n",
      "---------------------------------------------------------------\n",
      "min = -9223372036854775808\n",
      "max = 9223372036854775807\n",
      "---------------------------------------------------------------\n",
      "\n",
      "\n"
     ]
    }
   ],
   "source": [
    "for int_ in [np.int8,np.int16,np.int32,np.int64]:\n",
    "    print(np.iinfo(int_))\n",
    "    print()"
   ]
  },
  {
   "cell_type": "code",
   "execution_count": 173,
   "id": "afe37ebe",
   "metadata": {},
   "outputs": [
    {
     "name": "stdout",
     "output_type": "stream",
     "text": [
      "Machine parameters for float16\n",
      "---------------------------------------------------------------\n",
      "precision =   3   resolution = 1.00040e-03\n",
      "machep =    -10   eps =        9.76562e-04\n",
      "negep =     -11   epsneg =     4.88281e-04\n",
      "minexp =    -14   tiny =       6.10352e-05\n",
      "maxexp =     16   max =        6.55040e+04\n",
      "nexp =        5   min =        -max\n",
      "smallest_normal = 6.10352e-05   smallest_subnormal = 5.96046e-08\n",
      "---------------------------------------------------------------\n",
      "\n",
      "\n",
      "Machine parameters for float32\n",
      "---------------------------------------------------------------\n",
      "precision =   6   resolution = 1.0000000e-06\n",
      "machep =    -23   eps =        1.1920929e-07\n",
      "negep =     -24   epsneg =     5.9604645e-08\n",
      "minexp =   -126   tiny =       1.1754944e-38\n",
      "maxexp =    128   max =        3.4028235e+38\n",
      "nexp =        8   min =        -max\n",
      "smallest_normal = 1.1754944e-38   smallest_subnormal = 1.4012985e-45\n",
      "---------------------------------------------------------------\n",
      "\n",
      "\n",
      "Machine parameters for float64\n",
      "---------------------------------------------------------------\n",
      "precision =  15   resolution = 1.0000000000000001e-15\n",
      "machep =    -52   eps =        2.2204460492503131e-16\n",
      "negep =     -53   epsneg =     1.1102230246251565e-16\n",
      "minexp =  -1022   tiny =       2.2250738585072014e-308\n",
      "maxexp =   1024   max =        1.7976931348623157e+308\n",
      "nexp =       11   min =        -max\n",
      "smallest_normal = 2.2250738585072014e-308   smallest_subnormal = 4.9406564584124654e-324\n",
      "---------------------------------------------------------------\n",
      "\n",
      "\n"
     ]
    }
   ],
   "source": [
    "for float_ in [np.float16,np.float32,np.float64]:\n",
    "    print(np.finfo(float_))\n",
    "    print()"
   ]
  },
  {
   "cell_type": "markdown",
   "id": "9b317a98",
   "metadata": {},
   "source": [
    "#### 49. How to print all the values of an array? (★★☆)"
   ]
  },
  {
   "cell_type": "code",
   "execution_count": 246,
   "id": "309cdeb9",
   "metadata": {},
   "outputs": [
    {
     "data": {
      "text/plain": [
       "array([9.85, 3.93, 5.  , 2.  ])"
      ]
     },
     "execution_count": 246,
     "metadata": {},
     "output_type": "execute_result"
    }
   ],
   "source": [
    "o=np.array([9.849,3.934,5,2])\n",
    "# np.set_printoptions(2,5)\n",
    "o"
   ]
  },
  {
   "cell_type": "markdown",
   "id": "b580f9d0",
   "metadata": {},
   "source": [
    "#### 50. How to find the closest value (to a given scalar) in a vector? (★★☆)"
   ]
  },
  {
   "cell_type": "code",
   "execution_count": 8,
   "id": "ebfb6714",
   "metadata": {},
   "outputs": [
    {
     "data": {
      "text/plain": [
       "3"
      ]
     },
     "execution_count": 8,
     "metadata": {},
     "output_type": "execute_result"
    }
   ],
   "source": [
    "import numpy as np\n",
    "p=np.random.RandomState(45).randint(100,size=20)\n",
    "u=np.random.RandomState(45).uniform(100)\n",
    "p[(p-u).argmin()]"
   ]
  },
  {
   "cell_type": "markdown",
   "id": "602e6252",
   "metadata": {},
   "source": [
    "#### 51. Create a structured array representing a position (x,y) and a color (r,g,b) (★★☆)"
   ]
  },
  {
   "cell_type": "code",
   "execution_count": 16,
   "id": "cf002b3a",
   "metadata": {},
   "outputs": [
    {
     "data": {
      "text/plain": [
       "array([(4., 6., 234., 234.,  6.), (2., 1., 325., 327., 10.)],\n",
       "      dtype=[('x', '<f8'), ('y', '<f8'), ('r', '<f8'), ('g', '<f8'), ('b', '<f8')])"
      ]
     },
     "execution_count": 16,
     "metadata": {},
     "output_type": "execute_result"
    }
   ],
   "source": [
    "d=np.dtype([(\"x\",float),(\"y\",float),(\"r\",float),(\"g\",float),(\"b\",float)])\n",
    "np.array([(4,6,234,234,6),(2,1,325,327,10)],dtype=d)"
   ]
  },
  {
   "cell_type": "markdown",
   "id": "78bcd92f",
   "metadata": {},
   "source": [
    "#### 52. Consider a random vector with shape (100,2) representing coordinates, find point by point distances (★★☆)"
   ]
  },
  {
   "cell_type": "code",
   "execution_count": 21,
   "id": "fea7f9a6",
   "metadata": {},
   "outputs": [
    {
     "data": {
      "text/plain": [
       "array([[ 0.  , 42.54, 72.56, ..., 54.13, 68.96, 53.01],\n",
       "       [42.54,  0.  , 68.68, ..., 12.17, 72.62, 11.66],\n",
       "       [72.56, 68.68,  0.  , ..., 75.93, 12.53, 66.22],\n",
       "       ...,\n",
       "       [54.13, 12.17, 75.93, ...,  0.  , 81.3 , 10.  ],\n",
       "       [68.96, 72.62, 12.53, ..., 81.3 ,  0.  , 72.07],\n",
       "       [53.01, 11.66, 66.22, ..., 10.  , 72.07,  0.  ]])"
      ]
     },
     "execution_count": 21,
     "metadata": {},
     "output_type": "execute_result"
    }
   ],
   "source": [
    "j=np.random.RandomState(42).randint(1,100,size=(100,2))\n",
    "A,B=np.atleast_2d(j[:,0],j[:,1])\n",
    "D=np.sqrt((A-A.T)**2 + (B-B.T)**2)\n",
    "D.round(2)"
   ]
  },
  {
   "cell_type": "markdown",
   "id": "343c5a85",
   "metadata": {},
   "source": [
    "#### 53. How to convert a float (32 bits) array into an integer (32 bits) in place?"
   ]
  },
  {
   "cell_type": "code",
   "execution_count": 26,
   "id": "fc1b687b",
   "metadata": {},
   "outputs": [
    {
     "data": {
      "text/plain": [
       "dtype('int32')"
      ]
     },
     "execution_count": 26,
     "metadata": {},
     "output_type": "execute_result"
    }
   ],
   "source": [
    "z=np.array([1,4,5],dtype=np.float32)\n",
    "a=z.view(np.int32)\n",
    "a.dtype"
   ]
  },
  {
   "cell_type": "markdown",
   "id": "a69e1ace",
   "metadata": {},
   "source": [
    "#### 54. How to read the following file? (★★☆)\n",
    "```\n",
    "1, 2, 3, 4, 5\n",
    "6,  ,  , 7, 8\n",
    " ,  , 9,10,11\n",
    "```"
   ]
  },
  {
   "cell_type": "code",
   "execution_count": 31,
   "id": "1c7957d4",
   "metadata": {},
   "outputs": [
    {
     "data": {
      "text/plain": [
       "array([[ 1,  2,  3,  4,  5],\n",
       "       [ 6, -1, -1,  7,  8],\n",
       "       [-1, -1,  9, 10, 11]])"
      ]
     },
     "execution_count": 31,
     "metadata": {},
     "output_type": "execute_result"
    }
   ],
   "source": [
    "from io import StringIO\n",
    "file=StringIO(\"\"\"1, 2, 3, 4, 5\n",
    "6,  ,  , 7, 8\n",
    " ,  , 9,10,11\"\"\")\n",
    "np.genfromtxt(file,delimiter=\",\",dtype=np.int32)"
   ]
  },
  {
   "cell_type": "markdown",
   "id": "c23bd80d",
   "metadata": {},
   "source": [
    "#### 55. What is the equivalent of enumerate for numpy arrays? (★★☆)"
   ]
  },
  {
   "cell_type": "code",
   "execution_count": 36,
   "id": "d95d9578",
   "metadata": {},
   "outputs": [
    {
     "name": "stdout",
     "output_type": "stream",
     "text": [
      "0, 3\n",
      "1, 7\n",
      "2, 4\n",
      "3, 2\n",
      "4, 9\n"
     ]
    }
   ],
   "source": [
    "e=np.array([3,7,4,2,9])\n",
    "for i,e in np.ndenumerate(e):\n",
    "    print(i[0],end=\", \")\n",
    "    print(e)"
   ]
  },
  {
   "cell_type": "markdown",
   "id": "2153a5ec",
   "metadata": {},
   "source": [
    "#### 56. Generate a generic 2D Gaussian-like array (★★☆)"
   ]
  },
  {
   "cell_type": "code",
   "execution_count": 45,
   "id": "61122d1e",
   "metadata": {},
   "outputs": [
    {
     "data": {
      "text/plain": [
       "array([[0.36787944, 0.44822088, 0.51979489, 0.57375342, 0.60279818,\n",
       "        0.60279818, 0.57375342, 0.51979489, 0.44822088, 0.36787944],\n",
       "       [0.44822088, 0.54610814, 0.63331324, 0.69905581, 0.73444367,\n",
       "        0.73444367, 0.69905581, 0.63331324, 0.54610814, 0.44822088],\n",
       "       [0.51979489, 0.63331324, 0.73444367, 0.81068432, 0.85172308,\n",
       "        0.85172308, 0.81068432, 0.73444367, 0.63331324, 0.51979489],\n",
       "       [0.57375342, 0.69905581, 0.81068432, 0.89483932, 0.9401382 ,\n",
       "        0.9401382 , 0.89483932, 0.81068432, 0.69905581, 0.57375342],\n",
       "       [0.60279818, 0.73444367, 0.85172308, 0.9401382 , 0.98773022,\n",
       "        0.98773022, 0.9401382 , 0.85172308, 0.73444367, 0.60279818],\n",
       "       [0.60279818, 0.73444367, 0.85172308, 0.9401382 , 0.98773022,\n",
       "        0.98773022, 0.9401382 , 0.85172308, 0.73444367, 0.60279818],\n",
       "       [0.57375342, 0.69905581, 0.81068432, 0.89483932, 0.9401382 ,\n",
       "        0.9401382 , 0.89483932, 0.81068432, 0.69905581, 0.57375342],\n",
       "       [0.51979489, 0.63331324, 0.73444367, 0.81068432, 0.85172308,\n",
       "        0.85172308, 0.81068432, 0.73444367, 0.63331324, 0.51979489],\n",
       "       [0.44822088, 0.54610814, 0.63331324, 0.69905581, 0.73444367,\n",
       "        0.73444367, 0.69905581, 0.63331324, 0.54610814, 0.44822088],\n",
       "       [0.36787944, 0.44822088, 0.51979489, 0.57375342, 0.60279818,\n",
       "        0.60279818, 0.57375342, 0.51979489, 0.44822088, 0.36787944]])"
      ]
     },
     "execution_count": 45,
     "metadata": {},
     "output_type": "execute_result"
    }
   ],
   "source": [
    "x,y=np.meshgrid(np.linspace(-1,1,10),np.linspace(-1,1,10))\n",
    "d=np.sqrt((x*x)+(y*y))\n",
    "z=np.exp(-(d**2/2))\n",
    "z"
   ]
  },
  {
   "cell_type": "markdown",
   "id": "2e76d589",
   "metadata": {},
   "source": [
    "#### 57. How to randomly place p elements in a 2D array? (★★☆)"
   ]
  },
  {
   "cell_type": "code",
   "execution_count": 139,
   "id": "0c2e4fcc",
   "metadata": {},
   "outputs": [
    {
     "data": {
      "text/plain": [
       "array([[0., 2., 0.],\n",
       "       [0., 2., 0.],\n",
       "       [2., 0., 2.]])"
      ]
     },
     "execution_count": 139,
     "metadata": {},
     "output_type": "execute_result"
    }
   ],
   "source": [
    "p=4\n",
    "h=np.zeros((3,3))\n",
    "h.put(np.random.choice(range(h.size),p,replace=False),values=2)\n",
    "h"
   ]
  },
  {
   "cell_type": "markdown",
   "id": "8b3933eb",
   "metadata": {},
   "source": [
    "#### 58. Subtract the mean of each row of a matrix (★★☆)"
   ]
  },
  {
   "cell_type": "code",
   "execution_count": 159,
   "id": "a306c9ef",
   "metadata": {},
   "outputs": [
    {
     "name": "stdout",
     "output_type": "stream",
     "text": [
      "[[ 3.18603676 12.57226425  3.53442832  5.57120278]\n",
      " [ 7.21564206 17.32361233 13.65571405 11.28208203]\n",
      " [ 1.55126266 14.94121763  8.50405035 16.23889525]\n",
      " [ 5.83400139  2.0808138  17.46632418  5.19955092]]\n",
      "[ 6.21598303 12.36926262 10.30885647  7.64517257]\n"
     ]
    },
    {
     "data": {
      "text/plain": [
       "array([[-3.02994627,  6.35628122, -2.68155471, -0.64478025],\n",
       "       [-5.15362056,  4.95434971,  1.28645143, -1.08718058],\n",
       "       [-8.75759381,  4.63236115, -1.80480612,  5.93003878],\n",
       "       [-1.81117118, -5.56435878,  9.82115161, -2.44562165]])"
      ]
     },
     "execution_count": 159,
     "metadata": {},
     "output_type": "execute_result"
    }
   ],
   "source": [
    "print(o:=np.random.RandomState(43).uniform(1,20,size=(4,4)))\n",
    "print(m:=o.mean(axis=1))\n",
    "o-=m.reshape(-1,1)\n",
    "o"
   ]
  },
  {
   "cell_type": "markdown",
   "id": "ea8807c0",
   "metadata": {},
   "source": [
    "#### 59. How to sort an array by the nth column? (★★☆)"
   ]
  },
  {
   "cell_type": "code",
   "execution_count": 170,
   "id": "cc89a699",
   "metadata": {},
   "outputs": [
    {
     "name": "stdout",
     "output_type": "stream",
     "text": [
      "[[13  1 -5]\n",
      " [12 18 14]\n",
      " [ 9 18 -3]\n",
      " [15 -7 -5]\n",
      " [ 0 -1 -6]]\n"
     ]
    },
    {
     "data": {
      "text/plain": [
       "array([[ 0, -1, -6],\n",
       "       [13,  1, -5],\n",
       "       [15, -7, -5],\n",
       "       [ 9, 18, -3],\n",
       "       [12, 18, 14]])"
      ]
     },
     "execution_count": 170,
     "metadata": {},
     "output_type": "execute_result"
    }
   ],
   "source": [
    "n=3\n",
    "print(e:=np.random.RandomState(32).randint(-10,20,size=(5,3)))\n",
    "e[e[:,n-1].argsort()]"
   ]
  },
  {
   "cell_type": "markdown",
   "id": "00fa00a1",
   "metadata": {},
   "source": [
    "#### 60. How to tell if a given 2D array has null columns? (★★☆)"
   ]
  },
  {
   "cell_type": "code",
   "execution_count": 183,
   "id": "3436e165",
   "metadata": {},
   "outputs": [
    {
     "name": "stdout",
     "output_type": "stream",
     "text": [
      "[[ 9. nan  4.  3.]\n",
      " [12. nan  4.  6.]\n",
      " [31. nan 16. nan]\n",
      " [19. nan 24. 23.]]\n"
     ]
    },
    {
     "data": {
      "text/plain": [
       "True"
      ]
     },
     "execution_count": 183,
     "metadata": {},
     "output_type": "execute_result"
    }
   ],
   "source": [
    "print(f:=np.array([[9,np.nan,4,3],[12,np.nan,4,6],[31,np.nan,16,np.nan],[19,np.nan,24,23]]))\n",
    "np.isnan(f).all(axis=0).any()"
   ]
  },
  {
   "cell_type": "markdown",
   "id": "5a65c7a2",
   "metadata": {},
   "source": [
    "#### 61. Find the nearest value from a given value in an array (★★☆)"
   ]
  },
  {
   "cell_type": "code",
   "execution_count": 188,
   "id": "73f149d6",
   "metadata": {},
   "outputs": [
    {
     "name": "stdout",
     "output_type": "stream",
     "text": [
      "[-7.69890867  2.18133079 -7.33218072 -5.1882076  -3.45721888  7.18274982\n",
      "  3.32180426  0.82324425 -9.41972351  4.67496593 -2.10099963  6.04094237\n",
      " -4.91157748 -8.86230127  7.33297282 -5.57942008 -1.90021104 -3.67807058\n",
      " -8.466746    6.86449388]\n"
     ]
    },
    {
     "data": {
      "text/plain": [
       "0.8232442456680751"
      ]
     },
     "execution_count": 188,
     "metadata": {},
     "output_type": "execute_result"
    }
   ],
   "source": [
    "print(b:=np.random.RandomState(43).uniform(-10,10,size=20))\n",
    "v=0.7\n",
    "b[abs((b-v)).argmin()]"
   ]
  },
  {
   "cell_type": "markdown",
   "id": "dd83e8af",
   "metadata": {},
   "source": [
    "#### 62. Considering two arrays with shape (1,3) and (3,1), how to compute their sum using an iterator? (★★☆)"
   ]
  },
  {
   "cell_type": "code",
   "execution_count": 202,
   "id": "29a709a1",
   "metadata": {},
   "outputs": [
    {
     "name": "stdout",
     "output_type": "stream",
     "text": [
      "[[ 6 17 12]]\n",
      "[[ 9]\n",
      " [15]\n",
      " [19]]\n",
      "15\n",
      "26\n",
      "21\n",
      "21\n",
      "32\n",
      "27\n",
      "25\n",
      "36\n",
      "31\n"
     ]
    }
   ],
   "source": [
    "A=np.random.randint(20,size=(1,3))\n",
    "B=np.random.randint(20,size=(3,1))\n",
    "print(A)\n",
    "print(B)\n",
    "it = np.nditer([A,B,None])\n",
    "for x,y,z in it:\n",
    "    z=x+y\n",
    "    print(z)"
   ]
  },
  {
   "cell_type": "markdown",
   "id": "6c042efa",
   "metadata": {},
   "source": [
    "#### 63. Create an array class that has a name attribute (★★☆)"
   ]
  },
  {
   "cell_type": "code",
   "execution_count": 203,
   "id": "45b3d2e0",
   "metadata": {},
   "outputs": [
    {
     "data": {
      "text/plain": [
       "'ages'"
      ]
     },
     "execution_count": 203,
     "metadata": {},
     "output_type": "execute_result"
    }
   ],
   "source": [
    "class Namedarray(np.ndarray):\n",
    "    def __new__(cls,array,name=\"no name\"):\n",
    "        obj=np.asarray(array).view(cls)\n",
    "        obj.name=name\n",
    "        return obj\n",
    "    def __array_finalize__(self,obj):\n",
    "        if obj is None: return\n",
    "        self.name=getattr(obj,\"name\",\"no name\")\n",
    "\n",
    "o=Namedarray([3,5,7],\"ages\")\n",
    "o.name"
   ]
  },
  {
   "cell_type": "markdown",
   "id": "0a075c3d",
   "metadata": {},
   "source": [
    "#### 64. Consider a given vector, how to add 1 to each element indexed by a second vector (be careful with repeated indices)? (★★★)"
   ]
  },
  {
   "cell_type": "code",
   "execution_count": 234,
   "id": "36c50470",
   "metadata": {},
   "outputs": [
    {
     "name": "stdout",
     "output_type": "stream",
     "text": [
      "[1. 1. 1. 1. 1. 1. 1. 1. 1. 1.]\n",
      "[7 5 6 8 3 7 9 3 5 9 4 1 3 1 2 3 8 2 4 2]\n",
      "[0 2 3 4 2 2 1 2 2 2]\n"
     ]
    },
    {
     "data": {
      "text/plain": [
       "array([1., 3., 4., 5., 3., 3., 2., 3., 3., 3.])"
      ]
     },
     "execution_count": 234,
     "metadata": {},
     "output_type": "execute_result"
    }
   ],
   "source": [
    "print(z:=np.ones(10))\n",
    "print(i:=np.random.RandomState(32).randint(0,len(z),size=20))\n",
    "print(p:=np.bincount(i,minlength=len(z)))\n",
    "z+=p\n",
    "# np.add.at(z,i,1)\n",
    "z"
   ]
  },
  {
   "cell_type": "markdown",
   "id": "0fb2f0c5",
   "metadata": {},
   "source": [
    "#### 65. How to accumulate elements of a vector (X) to an array (F) based on an index list (I)? (★★★)"
   ]
  },
  {
   "cell_type": "code",
   "execution_count": 248,
   "id": "58aa5f82",
   "metadata": {},
   "outputs": [
    {
     "name": "stdout",
     "output_type": "stream",
     "text": [
      "[0 4 1 4 0]\n"
     ]
    },
    {
     "data": {
      "text/plain": [
       "array([10.,  5.,  0.,  0.,  8.])"
      ]
     },
     "execution_count": 248,
     "metadata": {},
     "output_type": "execute_result"
    }
   ],
   "source": [
    "x=np.array([3,2,5,6,7])\n",
    "i=np.random.RandomState(759).randint(0,len(x),len(x))\n",
    "print(i)\n",
    "f=np.bincount(i,x)\n",
    "f"
   ]
  },
  {
   "cell_type": "markdown",
   "id": "d89dc506",
   "metadata": {},
   "source": [
    "#### 66. Considering a (w,h,3) image of (dtype=ubyte), compute the number of unique colors (★★☆)"
   ]
  },
  {
   "cell_type": "code",
   "execution_count": 255,
   "id": "8fb43a49",
   "metadata": {},
   "outputs": [
    {
     "data": {
      "text/plain": [
       "64"
      ]
     },
     "execution_count": 255,
     "metadata": {},
     "output_type": "execute_result"
    }
   ],
   "source": [
    "w,h=256,256\n",
    "I=np.random.RandomState(34).randint(0,4,(w,h,3)).astype(np.ubyte)\n",
    "Colors=np.unique(I.reshape(-1,3),axis=0)\n",
    "len(Colors)"
   ]
  },
  {
   "cell_type": "markdown",
   "id": "535a5d81",
   "metadata": {},
   "source": [
    "#### 67. Considering a four dimensions array, how to get sum over the last two axis at once? (★★★)"
   ]
  },
  {
   "cell_type": "code",
   "execution_count": 97,
   "id": "f954ab9d",
   "metadata": {},
   "outputs": [
    {
     "name": "stdout",
     "output_type": "stream",
     "text": [
      "[[[[1 9]\n",
      "   [6 5]]\n",
      "\n",
      "  [[4 3]\n",
      "   [5 2]]]\n",
      "\n",
      "\n",
      " [[[9 8]\n",
      "   [6 5]]\n",
      "\n",
      "  [[6 4]\n",
      "   [5 0]]]]\n"
     ]
    },
    {
     "data": {
      "text/plain": [
       "array([[21, 14],\n",
       "       [28, 15]])"
      ]
     },
     "execution_count": 97,
     "metadata": {},
     "output_type": "execute_result"
    }
   ],
   "source": [
    "b=np.random.RandomState(34).randint(0,10,(2,2,2,2))\n",
    "print(b)\n",
    "b.sum(axis=(-2,-1))"
   ]
  },
  {
   "cell_type": "markdown",
   "id": "eee66d3c",
   "metadata": {},
   "source": [
    "#### 68. Considering a one-dimensional vector D, how to compute means of subsets of D using a vector S of same size describing subset  indices? (★★★)"
   ]
  },
  {
   "cell_type": "code",
   "execution_count": 109,
   "id": "8929773a",
   "metadata": {},
   "outputs": [
    {
     "name": "stdout",
     "output_type": "stream",
     "text": [
      "[3 4 2 4 4]\n"
     ]
    },
    {
     "data": {
      "text/plain": [
       "array([nan, nan,  8.,  5.,  3.])"
      ]
     },
     "execution_count": 109,
     "metadata": {},
     "output_type": "execute_result"
    }
   ],
   "source": [
    "D=np.array([5,2,8,6,1])\n",
    "print(S:=np.random.RandomState(42).randint(0,len(D),len(D)))\n",
    "sum_=np.bincount(S,weights=D)\n",
    "count_=np.bincount(S)\n",
    "with np.errstate(all=\"ignore\"):\n",
    "    mean_=sum_/count_\n",
    "mean_"
   ]
  },
  {
   "cell_type": "markdown",
   "id": "f90d4c40",
   "metadata": {},
   "source": [
    "#### 69. How to get the diagonal of a dot product? (★★★)"
   ]
  },
  {
   "cell_type": "code",
   "execution_count": 112,
   "id": "b47d392d",
   "metadata": {},
   "outputs": [
    {
     "name": "stdout",
     "output_type": "stream",
     "text": [
      "[[ 6 19 14]\n",
      " [10  7  6]\n",
      " [18 10 10]]\n",
      "\n",
      "[[ 4 12  0]\n",
      " [ 4  6 11]\n",
      " [ 8  4 18]]\n"
     ]
    },
    {
     "data": {
      "text/plain": [
       "array([212, 186, 290])"
      ]
     },
     "execution_count": 112,
     "metadata": {},
     "output_type": "execute_result"
    }
   ],
   "source": [
    "print(v:=np.random.RandomState(42).randint(0,20,(3,3)))\n",
    "print()\n",
    "print(b:=np.random.RandomState(22).randint(0,20,(3,3)))\n",
    "v.dot(b).diagonal()"
   ]
  },
  {
   "cell_type": "markdown",
   "id": "a8a97e7d",
   "metadata": {},
   "source": [
    "#### 70. Consider the vector [1, 2, 3, 4, 5], how to build a new vector with 3 consecutive zeros interleaved between each value? (★★★)"
   ]
  },
  {
   "cell_type": "code",
   "execution_count": 118,
   "id": "ee6c6c37",
   "metadata": {},
   "outputs": [
    {
     "data": {
      "text/plain": [
       "array([1., 0., 0., 0., 2., 0., 0., 0., 3., 0., 0., 0., 4., 0., 0., 0., 5.])"
      ]
     },
     "execution_count": 118,
     "metadata": {},
     "output_type": "execute_result"
    }
   ],
   "source": [
    "v=np.array([1,2,3,4,5])\n",
    "zn=3\n",
    "z0=np.zeros(len(v)+(len(v)-1)*zn)\n",
    "z0[::zn+1]=v\n",
    "z0"
   ]
  },
  {
   "cell_type": "markdown",
   "id": "d6a30d60",
   "metadata": {},
   "source": [
    "#### 71. Consider an array of dimension (5,5,3), how to mulitply it by an array with dimensions (5,5)? (★★★)"
   ]
  },
  {
   "cell_type": "code",
   "execution_count": 126,
   "id": "e9703f2e",
   "metadata": {},
   "outputs": [
    {
     "name": "stdout",
     "output_type": "stream",
     "text": [
      "[[[6 3 7]\n",
      "  [4 6 9]\n",
      "  [2 6 7]\n",
      "  [4 3 7]\n",
      "  [7 2 5]]\n",
      "\n",
      " [[4 1 7]\n",
      "  [5 1 4]\n",
      "  [0 9 5]\n",
      "  [8 0 9]\n",
      "  [2 6 3]]\n",
      "\n",
      " [[8 2 4]\n",
      "  [2 6 4]\n",
      "  [8 6 1]\n",
      "  [3 8 1]\n",
      "  [9 8 9]]\n",
      "\n",
      " [[4 1 3]\n",
      "  [6 7 2]\n",
      "  [0 3 1]\n",
      "  [7 3 1]\n",
      "  [5 5 9]]\n",
      "\n",
      " [[3 5 1]\n",
      "  [9 1 9]\n",
      "  [3 7 6]\n",
      "  [8 7 4]\n",
      "  [1 4 7]]]\n",
      "\n",
      "[[7 5 6 8 3]\n",
      " [7 9 3 5 9]\n",
      " [4 1 3 1 2]\n",
      " [3 8 2 4 2]\n",
      " [4 4 9 5 9]]\n"
     ]
    },
    {
     "data": {
      "text/plain": [
       "array([[[42, 21, 49],\n",
       "        [20, 30, 45],\n",
       "        [12, 36, 42],\n",
       "        [32, 24, 56],\n",
       "        [21,  6, 15]],\n",
       "\n",
       "       [[28,  7, 49],\n",
       "        [45,  9, 36],\n",
       "        [ 0, 27, 15],\n",
       "        [40,  0, 45],\n",
       "        [18, 54, 27]],\n",
       "\n",
       "       [[32,  8, 16],\n",
       "        [ 2,  6,  4],\n",
       "        [24, 18,  3],\n",
       "        [ 3,  8,  1],\n",
       "        [18, 16, 18]],\n",
       "\n",
       "       [[12,  3,  9],\n",
       "        [48, 56, 16],\n",
       "        [ 0,  6,  2],\n",
       "        [28, 12,  4],\n",
       "        [10, 10, 18]],\n",
       "\n",
       "       [[12, 20,  4],\n",
       "        [36,  4, 36],\n",
       "        [27, 63, 54],\n",
       "        [40, 35, 20],\n",
       "        [ 9, 36, 63]]])"
      ]
     },
     "execution_count": 126,
     "metadata": {},
     "output_type": "execute_result"
    }
   ],
   "source": [
    "print(h:=np.random.RandomState(42).randint(0,10,(5,5,3)))\n",
    "print()\n",
    "print(r:=np.random.RandomState(32).randint(0,10,(5,5)))\n",
    "np.multiply(h,r.reshape(5,5,1))"
   ]
  },
  {
   "cell_type": "markdown",
   "id": "bac359a9",
   "metadata": {},
   "source": [
    "#### 72. How to swap two rows of an array? (★★★)"
   ]
  },
  {
   "cell_type": "code",
   "execution_count": 136,
   "id": "f1b432b1",
   "metadata": {},
   "outputs": [
    {
     "name": "stdout",
     "output_type": "stream",
     "text": [
      "[[6 3 7 4 6]\n",
      " [9 2 6 7 4]\n",
      " [3 7 7 2 5]\n",
      " [4 1 7 5 1]\n",
      " [4 0 9 5 8]\n",
      " [0 9 2 6 3]\n",
      " [8 2 4 2 6]]\n"
     ]
    },
    {
     "data": {
      "text/plain": [
       "array([[6, 3, 7, 4, 6],\n",
       "       [9, 2, 6, 7, 4],\n",
       "       [8, 2, 4, 2, 6],\n",
       "       [4, 1, 7, 5, 1],\n",
       "       [4, 0, 9, 5, 8],\n",
       "       [0, 9, 2, 6, 3],\n",
       "       [3, 7, 7, 2, 5]])"
      ]
     },
     "execution_count": 136,
     "metadata": {},
     "output_type": "execute_result"
    }
   ],
   "source": [
    "print(t:=np.random.RandomState(42).randint(0,10,(7,5)))\n",
    "t[[2,6]]=t[[6,2]]\n",
    "t"
   ]
  },
  {
   "cell_type": "markdown",
   "id": "620c9f83",
   "metadata": {},
   "source": [
    "#### 73. Consider a set of 10 triplets describing 10 triangles (with shared vertices), find the set of unique line segments composing all the  triangles (★★★)"
   ]
  },
  {
   "cell_type": "code",
   "execution_count": 56,
   "id": "4e595ffc",
   "metadata": {},
   "outputs": [
    {
     "name": "stdout",
     "output_type": "stream",
     "text": [
      "[[51 92 14]\n",
      " [71 60 20]\n",
      " [82 86 74]\n",
      " [74 87 99]\n",
      " [23  2 21]\n",
      " [52  1 87]\n",
      " [29 37  1]\n",
      " [63 59 20]\n",
      " [32 75 57]\n",
      " [21 88 48]]\n"
     ]
    },
    {
     "data": {
      "text/plain": [
       "array([( 1, 29), ( 1, 87), ( 2, 21), (14, 51), (20, 63), (20, 71),\n",
       "       (21, 23), (21, 88), (23,  2), (29, 37), (32, 75), (37,  1),\n",
       "       (48, 21), (51, 92), (52,  1), (57, 32), (59, 20), (60, 20),\n",
       "       (63, 59), (71, 60), (74, 82), (74, 87), (75, 57), (82, 86),\n",
       "       (86, 74), (87, 52), (87, 99), (88, 48), (92, 14), (99, 74)],\n",
       "      dtype=[('a', '<i4'), ('b', '<i4')])"
      ]
     },
     "execution_count": 56,
     "metadata": {},
     "output_type": "execute_result"
    }
   ],
   "source": [
    "print(faces:=np.random.RandomState(42).randint(0,100,(10,3)))\n",
    "p=faces.repeat(2,axis=1)\n",
    "e=np.roll(p,shift=-1,axis=1)\n",
    "e=e.reshape(len(e)*3,2)\n",
    "e=e.view([(\"a\",e.dtype),(\"b\",e.dtype)])\n",
    "np.unique(e)"
   ]
  },
  {
   "cell_type": "markdown",
   "id": "a76c55a2",
   "metadata": {},
   "source": [
    "#### 74. Given a sorted array C that corresponds to a bincount, how to produce an array A such that np.bincount(A) == C? (★★★)"
   ]
  },
  {
   "cell_type": "code",
   "execution_count": 68,
   "id": "2d2ae65a",
   "metadata": {},
   "outputs": [
    {
     "data": {
      "text/plain": [
       "array([ True,  True,  True,  True,  True,  True,  True,  True])"
      ]
     },
     "execution_count": 68,
     "metadata": {},
     "output_type": "execute_result"
    }
   ],
   "source": [
    "C=np.arange(2,26,3)\n",
    "# A=[]\n",
    "# for i,e in np.ndenumerate(C):\n",
    "#     A.extend([i[0]]*e)\n",
    "# A=np.array(A)\n",
    "# np.bincount(A)==C\n",
    "A=np.repeat(np.arange(len(C)),C)\n",
    "np.bincount(A)==C"
   ]
  },
  {
   "cell_type": "markdown",
   "id": "d550c8e2",
   "metadata": {},
   "source": [
    "#### 75. How to compute averages using a sliding window over an array? (★★★)"
   ]
  },
  {
   "cell_type": "code",
   "execution_count": 46,
   "id": "841c457c",
   "metadata": {},
   "outputs": [
    {
     "name": "stdout",
     "output_type": "stream",
     "text": [
      "[ 5.   6.5  8.   5.5  2.5  7.5 10. ]\n"
     ]
    },
    {
     "data": {
      "text/plain": [
       "array([ 5. ,  6.5,  8. ,  5.5,  2.5,  7.5, 10. ])"
      ]
     },
     "execution_count": 46,
     "metadata": {},
     "output_type": "execute_result"
    }
   ],
   "source": [
    "E=np.array([4,6,7,9,2,3,12,8])\n",
    "n=2\n",
    "r=np.cumsum(E,dtype=float)\n",
    "r[n:]-=r[:-n]\n",
    "r[n-1:]/=n\n",
    "print(r[n-1:])\n",
    "from numpy.lib.stride_tricks import sliding_window_view\n",
    "sliding_window_view(E,2).mean(axis=-1)"
   ]
  },
  {
   "cell_type": "markdown",
   "id": "6b170b00",
   "metadata": {},
   "source": [
    "#### 76. Consider a one-dimensional array Z, build a two-dimensional array whose first row is (Z[0],Z[1],Z[2]) and each subsequent row is  shifted by 1 (last row should be (Z[-3],Z[-2],Z[-1]) (★★★)"
   ]
  },
  {
   "cell_type": "code",
   "execution_count": 63,
   "id": "d9a0cf4e",
   "metadata": {},
   "outputs": [
    {
     "name": "stdout",
     "output_type": "stream",
     "text": [
      "[ 1 14 23  9  5  2 23 15  1 20 13 17  5  5]\n"
     ]
    },
    {
     "data": {
      "text/plain": [
       "array([[ 1, 14, 23],\n",
       "       [14, 23,  9],\n",
       "       [23,  9,  5],\n",
       "       [ 9,  5,  2],\n",
       "       [ 5,  2, 23],\n",
       "       [ 2, 23, 15],\n",
       "       [23, 15,  1],\n",
       "       [15,  1, 20],\n",
       "       [ 1, 20, 13],\n",
       "       [20, 13, 17],\n",
       "       [13, 17,  5],\n",
       "       [17,  5,  5]])"
      ]
     },
     "execution_count": 63,
     "metadata": {},
     "output_type": "execute_result"
    }
   ],
   "source": [
    "print(Z:=np.random.RandomState(42).randint(-5,26,14))\n",
    "# Z2=[]\n",
    "# n=2\n",
    "# while n<len(Z):\n",
    "#     Z2.append([Z[n-2],Z[n-1],Z[n]])\n",
    "#     n+=1\n",
    "# Z2\n",
    "from numpy.lib import stride_tricks\n",
    "\n",
    "stride_tricks.as_strided(Z,shape=(len(Z)-3+1,3),strides=(Z.strides[0],Z.strides[0]))\n",
    "sliding_window_view(Z,3)"
   ]
  },
  {
   "cell_type": "markdown",
   "id": "e94a5c1d",
   "metadata": {},
   "source": [
    "#### 77. How to negate a boolean, or to change the sign of a float inplace? (★★★)"
   ]
  },
  {
   "cell_type": "code",
   "execution_count": 111,
   "id": "c0f9504f",
   "metadata": {},
   "outputs": [
    {
     "data": {
      "text/plain": [
       "array([-0.3,  0.9])"
      ]
     },
     "execution_count": 111,
     "metadata": {},
     "output_type": "execute_result"
    }
   ],
   "source": [
    "a=np.array(True)\n",
    "np.logical_not(a,out=a)\n",
    "\n",
    "b=np.array([0.3,-0.9])\n",
    "np.negative(b,out=b)"
   ]
  },
  {
   "cell_type": "markdown",
   "id": "4eb8b5c1",
   "metadata": {},
   "source": [
    "#### 78. Consider 2 sets of points P0,P1 describing lines (2d) and a point p, how to compute distance from p to each line i (P0[i],P1[i])? (★★★)"
   ]
  },
  {
   "cell_type": "code",
   "execution_count": 135,
   "id": "487f47ec",
   "metadata": {},
   "outputs": [
    {
     "data": {
      "text/plain": [
       "array([ 0.        ,  6.51267291,  2.93874516,  3.99776893,  2.41397565,\n",
       "        5.81213235, 11.38858528,  8.57367859,  2.67420852,  1.88895591])"
      ]
     },
     "execution_count": 135,
     "metadata": {},
     "output_type": "execute_result"
    }
   ],
   "source": [
    "P0 = np.random.RandomState(43).uniform(-10,10,(10,2))\n",
    "P1 = np.random.RandomState(42).uniform(-10,10,(10,2))\n",
    "p  = np.random.RandomState(43).uniform(-10,10,( 1,2))\n",
    "\n",
    "M=P1-P0 # Subtract the 2 set of points\n",
    "T=(M**2).sum(axis=1) # Square the difference and find the sum of the coordinates\n",
    "U=-((P0[:,0]-p[...,0])*M[:,0]+(P0[:,1]-p[...,1])*M[:,1])/T\n",
    "U=U.reshape(len(U),1)\n",
    "D=P0+U*M-p\n",
    "np.sqrt((D**2).sum(axis=1))"
   ]
  },
  {
   "cell_type": "markdown",
   "id": "3df99948",
   "metadata": {},
   "source": [
    "#### 79. Consider 2 sets of points P0,P1 describing lines (2d) and a set of points P, how to compute distance from each point j (P[j]) to each line i (P0[i],P1[i])? (★★★)"
   ]
  },
  {
   "cell_type": "code",
   "execution_count": 138,
   "id": "dc2df37b",
   "metadata": {},
   "outputs": [
    {
     "name": "stdout",
     "output_type": "stream",
     "text": [
      "[ 7.31559533  1.82536705  2.50424473  2.54929463  5.65172618 13.49871496\n",
      "  8.26543763 10.64417967  6.1395301   1.31845974]\n",
      "[ 6.96281721 13.24614388  8.21108358 16.76321935  5.30881095  0.96152744\n",
      "  1.29705143  2.54052723  5.91488915 10.46694844]\n",
      "[ 5.58332586 12.01391907  6.57946146 15.37472869  3.89866576  0.73394276\n",
      "  0.39641755  1.04092319  4.33827157  8.87662888]\n",
      "[ 7.15345537 13.13409229  9.18862436 16.97430668  7.3237336   0.4817913\n",
      "  3.4062566   3.03248473  6.65231651 11.25632329]\n",
      "[ 7.08051283 13.56806698  7.77282566 16.86693594  4.03160759  2.11333856\n",
      "  0.15008206  2.44984961  5.65047151 10.16526616]\n",
      "[ 8.23057614  0.68574139  8.79909217  1.49522862  7.89860821  3.42782079\n",
      "  6.08847085 13.61226707 10.78631907  6.3212682 ]\n",
      "[ 8.82845235  2.86056939  5.13573304  1.00506273  2.06723692 12.09691578\n",
      "  5.05530017 12.60757973  8.45033874  3.70034339]\n",
      "[10.00926591  3.40292844  7.89722927  0.21830888  2.44290412  9.61525854\n",
      "  0.68239643 14.40792781 10.7427811   6.09535405]\n",
      "[3.44967255 2.3680779  0.0965299  6.39008493 4.83180861 8.99442072\n",
      " 5.58586206 7.18812097 3.08330876 1.64493051]\n",
      "[12.58505667  4.82101614 13.29510208  2.87094892 10.76628515  5.42936033\n",
      "  7.20453734 18.09816744 15.31100373 10.84565401]\n"
     ]
    }
   ],
   "source": [
    "P0 = np.random.uniform(-10, 10, (10,2))\n",
    "P1 = np.random.uniform(-10,10,(10,2))\n",
    "p = np.random.uniform(-10, 10, (10,2))\n",
    "\n",
    "for pi in p:\n",
    "    M=P1-P0 # Subtract the 2 set of points\n",
    "    T=(M**2).sum(axis=1) # Square the difference and find the sum of the coordinates\n",
    "    U=-((P0[:,0]-pi[...,0])*M[:,0]+(P0[:,1]-pi[...,1])*M[:,1])/T\n",
    "    U=U.reshape(len(U),1)\n",
    "    D=P0+U*M-pi\n",
    "    print(np.sqrt((D**2).sum(axis=1)))"
   ]
  },
  {
   "cell_type": "markdown",
   "id": "11e972c2",
   "metadata": {},
   "source": [
    "#### 80. Consider an arbitrary array, write a function that extract a subpart with a fixed shape and centered on a given element (pad with a `fill` value when necessary) (★★★)"
   ]
  },
  {
   "cell_type": "code",
   "execution_count": 154,
   "id": "0291247f",
   "metadata": {},
   "outputs": [
    {
     "name": "stdout",
     "output_type": "stream",
     "text": [
      "[-10   9 -18  39  11  10  40   0  14 -17  36  35  -6 -20  -7]\n"
     ]
    },
    {
     "data": {
      "text/plain": [
       "array([ 10,  40,   0,  14, -17,  36,  35])"
      ]
     },
     "execution_count": 154,
     "metadata": {},
     "output_type": "execute_result"
    }
   ],
   "source": [
    "def extract(array:np.ndarray,element:int):\n",
    "    shape=7\n",
    "    index=None\n",
    "    for i,e in np.ndenumerate(array):\n",
    "        if e == element:\n",
    "            index=i[0]\n",
    "            break\n",
    "    if index>=np.floor(shape/2) and index<=len(array)-np.ceil(shape/2):\n",
    "        return array[int(index-np.floor(shape/2)):int(index+np.ceil(shape/2))]\n",
    "    elif index<np.floor(shape/2):\n",
    "        return np.pad(array[:int(index+np.ceil(shape/2))],(int(np.floor(shape/2)-index),0))\n",
    "    elif index>len(array)-np.ceil(shape/2):\n",
    "        return np.pad(array[int(index-np.floor(shape/2)):],(0,int(np.floor(shape/2)-(len(array)-1-index))))\n",
    "F=np.random.RandomState(45).randint(-21,43,15)\n",
    "element=-18\n",
    "print(F)\n",
    "extract(F,14)"
   ]
  },
  {
   "cell_type": "markdown",
   "id": "93cfeab3",
   "metadata": {},
   "source": [
    "#### 81. Consider an array Z = [1,2,3,4,5,6,7,8,9,10,11,12,13,14], how to generate an array R = [[1,2,3,4], [2,3,4,5], [3,4,5,6], ..., [11,12,13,14]]? (★★★)"
   ]
  },
  {
   "cell_type": "code",
   "execution_count": 155,
   "id": "360de791",
   "metadata": {},
   "outputs": [
    {
     "data": {
      "text/plain": [
       "array([[ 1,  2,  3,  4],\n",
       "       [ 2,  3,  4,  5],\n",
       "       [ 3,  4,  5,  6],\n",
       "       [ 4,  5,  6,  7],\n",
       "       [ 5,  6,  7,  8],\n",
       "       [ 6,  7,  8,  9],\n",
       "       [ 7,  8,  9, 10],\n",
       "       [ 8,  9, 10, 11],\n",
       "       [ 9, 10, 11, 12],\n",
       "       [10, 11, 12, 13],\n",
       "       [11, 12, 13, 14]])"
      ]
     },
     "execution_count": 155,
     "metadata": {},
     "output_type": "execute_result"
    }
   ],
   "source": [
    "Z = np.array([1,2,3,4,5,6,7,8,9,10,11,12,13,14])\n",
    "sliding_window_view(Z,4)"
   ]
  },
  {
   "cell_type": "markdown",
   "id": "4c15ceff",
   "metadata": {},
   "source": [
    "#### 82. Compute a matrix rank (★★★)"
   ]
  },
  {
   "cell_type": "code",
   "execution_count": 47,
   "id": "9a4272d2",
   "metadata": {},
   "outputs": [
    {
     "data": {
      "text/plain": [
       "1"
      ]
     },
     "execution_count": 47,
     "metadata": {},
     "output_type": "execute_result"
    }
   ],
   "source": [
    "j=np.array([[15,27,4],[24,42,16],[8,8,17]])\n",
    "np.linalg.matrix_rank(j)\n",
    "\n",
    "i=np.array([[3,2],[6,4]])\n",
    "np.linalg.matrix_rank(i)"
   ]
  },
  {
   "cell_type": "markdown",
   "id": "1171cb84",
   "metadata": {},
   "source": [
    "#### 83. How to find the most frequent value in an array?"
   ]
  },
  {
   "cell_type": "code",
   "execution_count": 56,
   "id": "33e951c8",
   "metadata": {},
   "outputs": [
    {
     "name": "stdout",
     "output_type": "stream",
     "text": [
      "[26 46  8 57 27 22 10 28  6 40 45 12  7 14 20  6  4 37 38 27 45 21 13 23\n",
      " 53 39 39 60  8 60 41 16 14 14 59 29 32 55 32 29]\n"
     ]
    },
    {
     "data": {
      "text/plain": [
       "14"
      ]
     },
     "execution_count": 56,
     "metadata": {},
     "output_type": "execute_result"
    }
   ],
   "source": [
    "print(k:=np.random.RandomState(32).randint(3,62,40))\n",
    "\n",
    "from collections import Counter\n",
    "Counter(k).most_common(1)[0][0]\n",
    "\n",
    "#or\n",
    "np.bincount(k).argmax()"
   ]
  },
  {
   "cell_type": "markdown",
   "id": "04f472aa",
   "metadata": {},
   "source": [
    "#### 84. Extract all the contiguous 3x3 blocks from a random 10x10 matrix (★★★)"
   ]
  },
  {
   "cell_type": "code",
   "execution_count": 68,
   "id": "7aade14a",
   "metadata": {},
   "outputs": [
    {
     "name": "stdout",
     "output_type": "stream",
     "text": [
      "[[-14  37  54  34  50  20  15  -8  17  32]\n",
      " [ 34  14  44   1  16  52   4  39   4   7]\n",
      " [ 11  20  13  46  20  31  28  35   7  -8]\n",
      " [ 33   2  23  -1   8  40  -2  12   8 -12]\n",
      " [ 47   7  -7  21  36  50  53 -11   1  18]\n",
      " [-12  35  29   0  43 -13   9  38 -12  51]\n",
      " [ 40 -11   7  45  41  54  46  32  35  43]\n",
      " [ 21   0  54  18   3  14   2  40  29  -5]\n",
      " [ -5  15  34  55  41  -8 -14  -2  21  49]\n",
      " [  7   3  24  35  -7  30  42   3  50 -14]]\n"
     ]
    },
    {
     "data": {
      "text/plain": [
       "array([[[[-14,  37,  54],\n",
       "         [ 34,  14,  44],\n",
       "         [ 11,  20,  13]],\n",
       "\n",
       "        [[ 37,  54,  34],\n",
       "         [ 14,  44,   1],\n",
       "         [ 20,  13,  46]],\n",
       "\n",
       "        [[ 54,  34,  50],\n",
       "         [ 44,   1,  16],\n",
       "         [ 13,  46,  20]],\n",
       "\n",
       "        [[ 34,  50,  20],\n",
       "         [  1,  16,  52],\n",
       "         [ 46,  20,  31]],\n",
       "\n",
       "        [[ 50,  20,  15],\n",
       "         [ 16,  52,   4],\n",
       "         [ 20,  31,  28]],\n",
       "\n",
       "        [[ 20,  15,  -8],\n",
       "         [ 52,   4,  39],\n",
       "         [ 31,  28,  35]],\n",
       "\n",
       "        [[ 15,  -8,  17],\n",
       "         [  4,  39,   4],\n",
       "         [ 28,  35,   7]],\n",
       "\n",
       "        [[ -8,  17,  32],\n",
       "         [ 39,   4,   7],\n",
       "         [ 35,   7,  -8]]],\n",
       "\n",
       "\n",
       "       [[[ 34,  14,  44],\n",
       "         [ 11,  20,  13],\n",
       "         [ 33,   2,  23]],\n",
       "\n",
       "        [[ 14,  44,   1],\n",
       "         [ 20,  13,  46],\n",
       "         [  2,  23,  -1]],\n",
       "\n",
       "        [[ 44,   1,  16],\n",
       "         [ 13,  46,  20],\n",
       "         [ 23,  -1,   8]],\n",
       "\n",
       "        [[  1,  16,  52],\n",
       "         [ 46,  20,  31],\n",
       "         [ -1,   8,  40]],\n",
       "\n",
       "        [[ 16,  52,   4],\n",
       "         [ 20,  31,  28],\n",
       "         [  8,  40,  -2]],\n",
       "\n",
       "        [[ 52,   4,  39],\n",
       "         [ 31,  28,  35],\n",
       "         [ 40,  -2,  12]],\n",
       "\n",
       "        [[  4,  39,   4],\n",
       "         [ 28,  35,   7],\n",
       "         [ -2,  12,   8]],\n",
       "\n",
       "        [[ 39,   4,   7],\n",
       "         [ 35,   7,  -8],\n",
       "         [ 12,   8, -12]]],\n",
       "\n",
       "\n",
       "       [[[ 11,  20,  13],\n",
       "         [ 33,   2,  23],\n",
       "         [ 47,   7,  -7]],\n",
       "\n",
       "        [[ 20,  13,  46],\n",
       "         [  2,  23,  -1],\n",
       "         [  7,  -7,  21]],\n",
       "\n",
       "        [[ 13,  46,  20],\n",
       "         [ 23,  -1,   8],\n",
       "         [ -7,  21,  36]],\n",
       "\n",
       "        [[ 46,  20,  31],\n",
       "         [ -1,   8,  40],\n",
       "         [ 21,  36,  50]],\n",
       "\n",
       "        [[ 20,  31,  28],\n",
       "         [  8,  40,  -2],\n",
       "         [ 36,  50,  53]],\n",
       "\n",
       "        [[ 31,  28,  35],\n",
       "         [ 40,  -2,  12],\n",
       "         [ 50,  53, -11]],\n",
       "\n",
       "        [[ 28,  35,   7],\n",
       "         [ -2,  12,   8],\n",
       "         [ 53, -11,   1]],\n",
       "\n",
       "        [[ 35,   7,  -8],\n",
       "         [ 12,   8, -12],\n",
       "         [-11,   1,  18]]],\n",
       "\n",
       "\n",
       "       [[[ 33,   2,  23],\n",
       "         [ 47,   7,  -7],\n",
       "         [-12,  35,  29]],\n",
       "\n",
       "        [[  2,  23,  -1],\n",
       "         [  7,  -7,  21],\n",
       "         [ 35,  29,   0]],\n",
       "\n",
       "        [[ 23,  -1,   8],\n",
       "         [ -7,  21,  36],\n",
       "         [ 29,   0,  43]],\n",
       "\n",
       "        [[ -1,   8,  40],\n",
       "         [ 21,  36,  50],\n",
       "         [  0,  43, -13]],\n",
       "\n",
       "        [[  8,  40,  -2],\n",
       "         [ 36,  50,  53],\n",
       "         [ 43, -13,   9]],\n",
       "\n",
       "        [[ 40,  -2,  12],\n",
       "         [ 50,  53, -11],\n",
       "         [-13,   9,  38]],\n",
       "\n",
       "        [[ -2,  12,   8],\n",
       "         [ 53, -11,   1],\n",
       "         [  9,  38, -12]],\n",
       "\n",
       "        [[ 12,   8, -12],\n",
       "         [-11,   1,  18],\n",
       "         [ 38, -12,  51]]],\n",
       "\n",
       "\n",
       "       [[[ 47,   7,  -7],\n",
       "         [-12,  35,  29],\n",
       "         [ 40, -11,   7]],\n",
       "\n",
       "        [[  7,  -7,  21],\n",
       "         [ 35,  29,   0],\n",
       "         [-11,   7,  45]],\n",
       "\n",
       "        [[ -7,  21,  36],\n",
       "         [ 29,   0,  43],\n",
       "         [  7,  45,  41]],\n",
       "\n",
       "        [[ 21,  36,  50],\n",
       "         [  0,  43, -13],\n",
       "         [ 45,  41,  54]],\n",
       "\n",
       "        [[ 36,  50,  53],\n",
       "         [ 43, -13,   9],\n",
       "         [ 41,  54,  46]],\n",
       "\n",
       "        [[ 50,  53, -11],\n",
       "         [-13,   9,  38],\n",
       "         [ 54,  46,  32]],\n",
       "\n",
       "        [[ 53, -11,   1],\n",
       "         [  9,  38, -12],\n",
       "         [ 46,  32,  35]],\n",
       "\n",
       "        [[-11,   1,  18],\n",
       "         [ 38, -12,  51],\n",
       "         [ 32,  35,  43]]],\n",
       "\n",
       "\n",
       "       [[[-12,  35,  29],\n",
       "         [ 40, -11,   7],\n",
       "         [ 21,   0,  54]],\n",
       "\n",
       "        [[ 35,  29,   0],\n",
       "         [-11,   7,  45],\n",
       "         [  0,  54,  18]],\n",
       "\n",
       "        [[ 29,   0,  43],\n",
       "         [  7,  45,  41],\n",
       "         [ 54,  18,   3]],\n",
       "\n",
       "        [[  0,  43, -13],\n",
       "         [ 45,  41,  54],\n",
       "         [ 18,   3,  14]],\n",
       "\n",
       "        [[ 43, -13,   9],\n",
       "         [ 41,  54,  46],\n",
       "         [  3,  14,   2]],\n",
       "\n",
       "        [[-13,   9,  38],\n",
       "         [ 54,  46,  32],\n",
       "         [ 14,   2,  40]],\n",
       "\n",
       "        [[  9,  38, -12],\n",
       "         [ 46,  32,  35],\n",
       "         [  2,  40,  29]],\n",
       "\n",
       "        [[ 38, -12,  51],\n",
       "         [ 32,  35,  43],\n",
       "         [ 40,  29,  -5]]],\n",
       "\n",
       "\n",
       "       [[[ 40, -11,   7],\n",
       "         [ 21,   0,  54],\n",
       "         [ -5,  15,  34]],\n",
       "\n",
       "        [[-11,   7,  45],\n",
       "         [  0,  54,  18],\n",
       "         [ 15,  34,  55]],\n",
       "\n",
       "        [[  7,  45,  41],\n",
       "         [ 54,  18,   3],\n",
       "         [ 34,  55,  41]],\n",
       "\n",
       "        [[ 45,  41,  54],\n",
       "         [ 18,   3,  14],\n",
       "         [ 55,  41,  -8]],\n",
       "\n",
       "        [[ 41,  54,  46],\n",
       "         [  3,  14,   2],\n",
       "         [ 41,  -8, -14]],\n",
       "\n",
       "        [[ 54,  46,  32],\n",
       "         [ 14,   2,  40],\n",
       "         [ -8, -14,  -2]],\n",
       "\n",
       "        [[ 46,  32,  35],\n",
       "         [  2,  40,  29],\n",
       "         [-14,  -2,  21]],\n",
       "\n",
       "        [[ 32,  35,  43],\n",
       "         [ 40,  29,  -5],\n",
       "         [ -2,  21,  49]]],\n",
       "\n",
       "\n",
       "       [[[ 21,   0,  54],\n",
       "         [ -5,  15,  34],\n",
       "         [  7,   3,  24]],\n",
       "\n",
       "        [[  0,  54,  18],\n",
       "         [ 15,  34,  55],\n",
       "         [  3,  24,  35]],\n",
       "\n",
       "        [[ 54,  18,   3],\n",
       "         [ 34,  55,  41],\n",
       "         [ 24,  35,  -7]],\n",
       "\n",
       "        [[ 18,   3,  14],\n",
       "         [ 55,  41,  -8],\n",
       "         [ 35,  -7,  30]],\n",
       "\n",
       "        [[  3,  14,   2],\n",
       "         [ 41,  -8, -14],\n",
       "         [ -7,  30,  42]],\n",
       "\n",
       "        [[ 14,   2,  40],\n",
       "         [ -8, -14,  -2],\n",
       "         [ 30,  42,   3]],\n",
       "\n",
       "        [[  2,  40,  29],\n",
       "         [-14,  -2,  21],\n",
       "         [ 42,   3,  50]],\n",
       "\n",
       "        [[ 40,  29,  -5],\n",
       "         [ -2,  21,  49],\n",
       "         [  3,  50, -14]]]])"
      ]
     },
     "execution_count": 68,
     "metadata": {},
     "output_type": "execute_result"
    }
   ],
   "source": [
    "print(r:=np.random.RandomState(48).randint(-14,56,(10,10)))\n",
    "i=1+(r.shape[0]-3)\n",
    "j=1+(r.shape[1]-3)\n",
    "stride_tricks.as_strided(r,shape=(i,j,3,3),strides=r.strides+r.strides)"
   ]
  },
  {
   "cell_type": "markdown",
   "id": "52836346",
   "metadata": {},
   "source": [
    "#### 85. Create a 2D array subclass such that Z[i,j] == Z[j,i] (★★★)"
   ]
  },
  {
   "cell_type": "code",
   "execution_count": 82,
   "id": "4df70318",
   "metadata": {},
   "outputs": [
    {
     "data": {
      "text/plain": [
       "Symetric([[ 4, 19, 29],\n",
       "          [19, 12, 25],\n",
       "          [29, 25,  1]])"
      ]
     },
     "execution_count": 82,
     "metadata": {},
     "output_type": "execute_result"
    }
   ],
   "source": [
    "class Symetric(np.ndarray):\n",
    "    def __setitem__(self, index, value):\n",
    "        i,j = index\n",
    "        super(Symetric, self).__setitem__((i,j), value)\n",
    "        super(Symetric, self).__setitem__((j,i), value)\n",
    "\n",
    "Z=np.array([[4,7,8],[12,12,23],[21,2,1]])\n",
    "A=Z+Z.T\n",
    "A-=np.diag(Z.diagonal())\n",
    "A.view(Symetric)"
   ]
  },
  {
   "cell_type": "markdown",
   "id": "78c43ee5",
   "metadata": {},
   "source": [
    "#### 86. Consider a set of p matrices with shape (n,n) and a set of p vectors with shape (n,1). How to compute the sum of of the p matrix products at once? (result has shape (n,1)) (★★★)"
   ]
  },
  {
   "cell_type": "code",
   "execution_count": 89,
   "id": "32fd2c3b",
   "metadata": {},
   "outputs": [
    {
     "name": "stdout",
     "output_type": "stream",
     "text": [
      "[[[ 68  64  49]\n",
      "  [ 21  58  16]\n",
      "  [ 51 145 187]]\n",
      "\n",
      " [[ 91 194 110]\n",
      "  [158  87  64]\n",
      "  [ 35 127 178]]\n",
      "\n",
      " [[123  89 193]\n",
      "  [111  34  75]\n",
      "  [194 117 132]]\n",
      "\n",
      " [[ 36 117 175]\n",
      "  [ 32  60 112]\n",
      "  [ 73 162  48]]]\n",
      "[[[ 68]\n",
      "  [ 64]\n",
      "  [ 49]]\n",
      "\n",
      " [[ 21]\n",
      "  [ 58]\n",
      "  [ 16]]\n",
      "\n",
      " [[ 51]\n",
      "  [145]\n",
      "  [187]]\n",
      "\n",
      " [[ 91]\n",
      "  [194]\n",
      "  [110]]]\n"
     ]
    }
   ],
   "source": [
    "n=3\n",
    "p=4\n",
    "print(A:=np.random.RandomState(43).randint(0,200,(p,n,n)))\n",
    "print(B:=np.random.RandomState(43).randint(0,200,(p,n,1)))"
   ]
  },
  {
   "cell_type": "code",
   "execution_count": 90,
   "id": "e836e4ed",
   "metadata": {},
   "outputs": [
    {
     "data": {
      "text/plain": [
       "array([[126537],\n",
       "       [ 66800],\n",
       "       [127754]])"
      ]
     },
     "execution_count": 90,
     "metadata": {},
     "output_type": "execute_result"
    }
   ],
   "source": [
    "np.tensordot(A,B,axes=[[0,2],[0,1]])"
   ]
  },
  {
   "cell_type": "code",
   "execution_count": 96,
   "id": "b3d6c736",
   "metadata": {},
   "outputs": [
    {
     "data": {
      "text/plain": [
       "array([[126537],\n",
       "       [ 66800],\n",
       "       [127754]])"
      ]
     },
     "execution_count": 96,
     "metadata": {},
     "output_type": "execute_result"
    }
   ],
   "source": [
    "(A@B).sum(axis=0)"
   ]
  },
  {
   "cell_type": "markdown",
   "id": "158f9945",
   "metadata": {},
   "source": [
    "#### 87. Consider a 16x16 array, how to get the block-sum (block size is 4x4)? (★★★)"
   ]
  },
  {
   "cell_type": "code",
   "execution_count": 97,
   "id": "5a9b808f",
   "metadata": {},
   "outputs": [
    {
     "name": "stdout",
     "output_type": "stream",
     "text": [
      "[[26 46  8 27 22 10 28  6 40 45 12  7 14 20  6  4]\n",
      " [37 38 27 45 21 13 23 39 39  8 41 16 14 14 29 32]\n",
      " [32 29 50  3 14  9 49 33  7 44 33 19 22 40 13 38]\n",
      " [48 27 50 14 32 50 46 14 37 44 46  7 31 23 21 20]\n",
      " [37 19 21 17 28  9 17 34  3 47 17 44 18  4 17 22]\n",
      " [36 15 10 43 17  9  9 45 37 43 20 39 11 28 12 21]\n",
      " [20 34 21 35  7  3 10  3 33 38 21 23 11  5 40 11]\n",
      " [17 31 28 21 46 22  9  8 33 36  9 18 46  4 50  3]\n",
      " [32 39 44 41 22 33 10 48 44 41  9  3 28 36 39 19]\n",
      " [16 15  6 16 40 13 50  7 41  8 43 12 13 23 43 34]\n",
      " [ 3 43 33 39 25 18 17 38 13 36 12 13 39 22 40 18]\n",
      " [37 38 40 39 25 16 50 12 33 25 41 42  7  3 19 13]\n",
      " [32 18 29 24 44 25 35 40 31 27 11 35 37 30 46  7]\n",
      " [39 24 50 27 32 35  5 18 49 19  5  4 43 42 21 50]\n",
      " [28 27  3 43 30  8 50 33 35 49 25 36 37 15  6 25]\n",
      " [29 45 33 16 26 23 10  3  7 16 18 35  5  9 36 48]]\n"
     ]
    }
   ],
   "source": [
    "print(C:=np.random.RandomState(32).randint(3,51,(16,16)))"
   ]
  },
  {
   "cell_type": "code",
   "execution_count": 119,
   "id": "b118027a",
   "metadata": {},
   "outputs": [
    {
     "data": {
      "text/plain": [
       "array([[507, 453, 395, 406, 409, 443, 502, 488, 445, 403, 359, 296, 341],\n",
       "       [494, 435, 403, 390, 431, 422, 484, 486, 452, 451, 389, 332, 358],\n",
       "       [451, 389, 376, 366, 415, 408, 509, 504, 487, 485, 402, 349, 341],\n",
       "       [447, 390, 366, 346, 333, 359, 460, 482, 499, 460, 348, 334, 295],\n",
       "       [405, 393, 337, 302, 276, 284, 405, 427, 461, 441, 318, 370, 303],\n",
       "       [467, 454, 402, 337, 301, 356, 447, 468, 447, 396, 311, 393, 364],\n",
       "       [416, 446, 398, 378, 331, 367, 419, 422, 412, 359, 304, 394, 405],\n",
       "       [424, 489, 447, 422, 406, 404, 439, 426, 371, 366, 330, 429, 457],\n",
       "       [481, 505, 450, 454, 424, 443, 473, 451, 416, 372, 346, 382, 396],\n",
       "       [428, 474, 432, 476, 455, 439, 463, 418, 423, 401, 383, 424, 394],\n",
       "       [515, 530, 501, 456, 435, 435, 448, 410, 396, 396, 386, 443, 437],\n",
       "       [498, 493, 470, 488, 458, 475, 511, 453, 467, 443, 413, 423, 401],\n",
       "       [467, 471, 448, 433, 417, 407, 427, 386, 402, 402, 387, 437, 457]])"
      ]
     },
     "execution_count": 119,
     "metadata": {},
     "output_type": "execute_result"
    }
   ],
   "source": [
    "stride_tricks.as_strided(C,(13,13,4,4),strides=C.strides+C.strides).sum(axis=(2,3))"
   ]
  },
  {
   "cell_type": "markdown",
   "id": "2e0ad860",
   "metadata": {},
   "source": [
    "#### 88. How to implement the Game of Life using numpy arrays? (★★★)"
   ]
  },
  {
   "cell_type": "code",
   "execution_count": 53,
   "id": "574acff5",
   "metadata": {},
   "outputs": [
    {
     "name": "stdout",
     "output_type": "stream",
     "text": [
      "[[0 0 0 0 0 0 0 0 0 0]\n",
      " [0 0 0 0 0 1 1 1 0 0]\n",
      " [0 0 0 0 0 1 0 1 0 0]\n",
      " [0 0 0 0 1 1 0 0 1 0]\n",
      " [0 0 0 0 1 1 0 1 1 0]\n",
      " [0 0 0 0 1 1 1 0 0 0]\n",
      " [0 0 0 0 0 0 0 0 0 0]\n",
      " [0 0 0 0 0 0 0 0 0 0]\n",
      " [0 0 0 0 0 0 0 0 0 0]\n",
      " [0 0 0 0 0 0 0 0 0 0]]\n"
     ]
    }
   ],
   "source": [
    "def iterator(a):\n",
    "    p=(a[0:-2,0:-2]+a[0:-2,1:-1]+a[0:-2,2:]+\n",
    "       a[1:-1,0:-2]+a[1:-1,2:]+\n",
    "       a[2:,0:-2]+a[2:,1:-1]+a[2:,2:])\n",
    "\n",
    "    birth = (p==3) & (a[1:-1,1:-1]==0)\n",
    "    survive = ((p==2)|(p==3)) & (a[1:-1,1:-1]==1)\n",
    "    a[...]=0\n",
    "    a[1:-1,1:-1][birth|survive]=1\n",
    "    return a\n",
    "\n",
    "a=np.random.randint(0,2,(10,10))\n",
    "for i in range(10):\n",
    "    a=iterator(a)\n",
    "print(a)"
   ]
  },
  {
   "cell_type": "markdown",
   "id": "69a892fa",
   "metadata": {},
   "source": [
    "#### 89. How to get the n largest values of an array (★★★)"
   ]
  },
  {
   "cell_type": "code",
   "execution_count": 79,
   "id": "21b2bd48",
   "metadata": {},
   "outputs": [
    {
     "data": {
      "text/plain": [
       "array([43, 41, 81, 22])"
      ]
     },
     "execution_count": 79,
     "metadata": {},
     "output_type": "execute_result"
    }
   ],
   "source": [
    "n=4\n",
    "h=np.array([3,12,1,5,\n",
    "            21,43,22,20,\n",
    "            17,18,13,11,\n",
    "            6,41,81,2])\n",
    "h[np.argpartition(-h,n)[:n]]"
   ]
  },
  {
   "cell_type": "markdown",
   "id": "b55ccacc",
   "metadata": {},
   "source": [
    "#### 90. Given an arbitrary number of vectors, build the cartesian product (every combinations of every item) (★★★)"
   ]
  },
  {
   "cell_type": "code",
   "execution_count": 97,
   "id": "4b645da4",
   "metadata": {},
   "outputs": [
    {
     "data": {
      "text/plain": [
       "array([[ 6, 12, 32],\n",
       "       [ 6, 12, 87],\n",
       "       [ 6, 12,  1],\n",
       "       [ 6,  7, 32],\n",
       "       [ 6,  7, 87],\n",
       "       [ 6,  7,  1],\n",
       "       [ 6,  3, 32],\n",
       "       [ 6,  3, 87],\n",
       "       [ 6,  3,  1],\n",
       "       [ 3, 12, 32],\n",
       "       [ 3, 12, 87],\n",
       "       [ 3, 12,  1],\n",
       "       [ 3,  7, 32],\n",
       "       [ 3,  7, 87],\n",
       "       [ 3,  7,  1],\n",
       "       [ 3,  3, 32],\n",
       "       [ 3,  3, 87],\n",
       "       [ 3,  3,  1],\n",
       "       [ 9, 12, 32],\n",
       "       [ 9, 12, 87],\n",
       "       [ 9, 12,  1],\n",
       "       [ 9,  7, 32],\n",
       "       [ 9,  7, 87],\n",
       "       [ 9,  7,  1],\n",
       "       [ 9,  3, 32],\n",
       "       [ 9,  3, 87],\n",
       "       [ 9,  3,  1]])"
      ]
     },
     "execution_count": 97,
     "metadata": {},
     "output_type": "execute_result"
    }
   ],
   "source": [
    "a=np.array([6,3,9])\n",
    "b=np.array([12,7,3])\n",
    "c=np.array([32,87,1])\n",
    "\n",
    "s=a.size*b.size*c.size\n",
    "cartesian_product=np.array([(0,0,0) for i in range(s)])\n",
    "for i,e in np.ndenumerate(a):\n",
    "    i=i[0]\n",
    "    for j,m in np.ndenumerate(b):\n",
    "        j=j[0]\n",
    "        for k,n in np.ndenumerate(c):\n",
    "            k=k[0]\n",
    "            p=int(i*9+j*3+k)\n",
    "            cartesian_product[p]=(e,m,n)\n",
    "cartesian_product"
   ]
  },
  {
   "cell_type": "markdown",
   "id": "89187a23",
   "metadata": {},
   "source": [
    "#### 91. How to create a record array from a regular array? (★★★)"
   ]
  },
  {
   "cell_type": "code",
   "execution_count": 105,
   "id": "da94c71a",
   "metadata": {},
   "outputs": [
    {
     "data": {
      "text/plain": [
       "rec.array([(b'Kyle', 2.7, 1), (b'Reese', 5.5, 3)],\n",
       "          dtype=[('col1', 'S8'), ('col2', '<f8'), ('col3', '<i8')])"
      ]
     },
     "execution_count": 105,
     "metadata": {},
     "output_type": "execute_result"
    }
   ],
   "source": [
    "z=np.array([[\"Kyle\",2.7,1],[\"Reese\",5.5,3]])\n",
    "r=np.core.records.fromarrays(z.T,names=[\"col1\",\"col2\",\"col3\"],formats=[\"S8\",\"f8\",\"i8\"])\n",
    "r"
   ]
  },
  {
   "cell_type": "markdown",
   "id": "aa70d4ca",
   "metadata": {},
   "source": [
    "#### 92. Consider a large vector Z, compute Z to the power of 3 using 3 different methods (★★★)"
   ]
  },
  {
   "cell_type": "code",
   "execution_count": 111,
   "id": "7cff1bf5",
   "metadata": {},
   "outputs": [
    {
     "name": "stdout",
     "output_type": "stream",
     "text": [
      "[ 13 -25  24  32 -11  41 -27 -21 -26 -19]\n"
     ]
    },
    {
     "data": {
      "text/plain": [
       "array([  2197, -15625,  13824,  32768,  -1331,  68921, -19683,  -9261,\n",
       "       -17576,  -6859, -19683,  42875,     64,    125,   -216,   1728,\n",
       "        -8000,   8000,  19683,  59319,    512,  -6859,  32768,  -6859,\n",
       "           -1,  10648,  39304,  -6859, -13824,  54872,  32768,      0,\n",
       "         8000,  85184,    125,  29791,   8000,   3375,   -216,  -6859,\n",
       "         4913,   2197,   8000,  54872,   5832,  24389,  -1728,   -125,\n",
       "        64000,  -4096,  29791,  21952,   9261,      1, -27000,  12167,\n",
       "       -24389,  -4096,  -1331,  24389, -12167,  64000,  64000,   1000,\n",
       "        -2197,  74088,  -9261,      8,  54872, -27000,  68921,  39304,\n",
       "        74088,  46656,    343, -10648,  24389,  27000,  32768,   6859,\n",
       "         5832,   2197,  64000,  59319,  35937, -13824,  -3375,   5832,\n",
       "       -24389,   4913, -27000,  35937,    216,  24389,  32768,   5832,\n",
       "        12167,  -1331,      0, -12167,   3375,   1331,    512,  21952,\n",
       "        15625, -13824, -27000,  -2744,  35937,  -4913,  -5832,  50653,\n",
       "          343,  85184,   4913,  54872, -15625,  -9261,  -8000,      1,\n",
       "        19683, -27000,   1000,  27000,      0,    216,  -8000,  79507,\n",
       "        -8000,  -1331,   6859,    343,    216,   -512,  32768,   4913,\n",
       "        15625,  12167,  29791,  79507,      0,   8000,    512,    729,\n",
       "       -17576, -27000,  -2744,  85184,    -64,   1331,   -512,    343,\n",
       "         -216,  74088,      8,     64,    -27,   2197,  12167,  32768,\n",
       "       -17576,   -729,   4913,   -216, -21952, -21952, -24389,   1000,\n",
       "        29791,    729,  19683,   4913,   -125,  39304, -15625,      0,\n",
       "            8,   4096,   -512,     27, -19683,   -512,    -64,      0,\n",
       "       -12167, -27000, -17576,  -4913,   9261,  -3375,      8,   6859,\n",
       "       -21952,  64000,  10648,   -125,  12167,  -6859,   -125,   -125,\n",
       "         -216,      0,   4913,   -729,      8,  17576,    729,    -27,\n",
       "        79507,  -6859,   1728,   1331,  -1000,  46656,  -4096,  -9261,\n",
       "        29791, -21952,  -4096,  -6859,  29791,   -125, -13824, -10648,\n",
       "       -15625,  -2197, -12167,    216,  -1000,   2197,  -9261,  68921,\n",
       "          216,  74088,  -4096,   2197,     -1,  15625,   1728,    216,\n",
       "           -8, -21952,  15625,     -1,   1331,  -4096,  -1000,  -4096,\n",
       "          -27, -21952,  35937,  10648, -19683, -15625,   8000,    -64,\n",
       "         -512,     -1,      0,   -343,  -1728, -13824, -12167,  -3375,\n",
       "         -216,  21952,  -5832, -24389,    125,   6859,  85184,  -3375,\n",
       "         2197, -12167, -24389,   4096,    512,   -512,  74088, -13824,\n",
       "          -64,    512,  12167,  32768,  79507,    216,  -8000,      1,\n",
       "        32768,    -27,   6859,    216, -24389,   6859,   9261,   3375,\n",
       "        54872,  12167,   5832,  79507])"
      ]
     },
     "execution_count": 111,
     "metadata": {},
     "output_type": "execute_result"
    }
   ],
   "source": [
    "Z=np.random.RandomState(32).randint(-30,45,300)\n",
    "print(Z[:10])\n",
    "\n",
    "#method 1 : double asterisks.\n",
    "Z**3\n",
    "\n",
    "#method 2 : np.power\n",
    "np.power(Z,3)\n",
    "\n",
    "#method 3 : multiply Z three times\n",
    "Z*Z*Z"
   ]
  },
  {
   "cell_type": "markdown",
   "id": "5f79dd00",
   "metadata": {},
   "source": [
    "#### 93. Consider two arrays A and B of shape (8,3) and (2,2). How to find rows of A that contain elements of each row of B regardless of the order of the elements in B? (★★★)"
   ]
  },
  {
   "cell_type": "code",
   "execution_count": 143,
   "id": "20c105b2",
   "metadata": {},
   "outputs": [
    {
     "name": "stdout",
     "output_type": "stream",
     "text": [
      "[[ 1 -5  9]\n",
      " [-3 -7 -5]\n",
      " [ 0 -1 -6]\n",
      " [ 1  7 -7]\n",
      " [-9 -8 -7]\n",
      " [ 0  8  0]\n",
      " [ 8 -6 -6]\n",
      " [-5 -4  3]]\n",
      "[[-9  0]\n",
      " [-1 -6]]\n"
     ]
    },
    {
     "data": {
      "text/plain": [
       "array([2], dtype=int64)"
      ]
     },
     "execution_count": 143,
     "metadata": {},
     "output_type": "execute_result"
    }
   ],
   "source": [
    "print(A:=np.random.RandomState(32).randint(-10,10,(8,3)))\n",
    "print(B:=np.random.RandomState(34).randint(-10,10,(2,2)))\n",
    "C=(A[...,np.newaxis,np.newaxis]==B)\n",
    "rows=np.where(C.any((3,1)).all(1))[0]\n",
    "rows"
   ]
  },
  {
   "cell_type": "markdown",
   "id": "a80570cd",
   "metadata": {},
   "source": [
    "#### 94. Considering a 10x3 matrix, extract rows with unequal values (e.g. [2,2,3]) (★★★)"
   ]
  },
  {
   "cell_type": "code",
   "execution_count": 151,
   "id": "84db8de1",
   "metadata": {},
   "outputs": [
    {
     "name": "stdout",
     "output_type": "stream",
     "text": [
      "[[2 2 3]\n",
      " [3 3 2]\n",
      " [2 3 3]\n",
      " [3 3 2]\n",
      " [2 2 3]\n",
      " [2 3 3]\n",
      " [2 3 3]\n",
      " [3 3 3]\n",
      " [2 3 2]\n",
      " [3 3 2]]\n"
     ]
    },
    {
     "data": {
      "text/plain": [
       "array([[2, 2, 3],\n",
       "       [3, 3, 2],\n",
       "       [2, 3, 3],\n",
       "       [3, 3, 2],\n",
       "       [2, 2, 3],\n",
       "       [2, 3, 3],\n",
       "       [2, 3, 3],\n",
       "       [2, 3, 2],\n",
       "       [3, 3, 2]])"
      ]
     },
     "execution_count": 151,
     "metadata": {},
     "output_type": "execute_result"
    }
   ],
   "source": [
    "print(P:=np.random.RandomState(43).randint(2,4,(10,3)))\n",
    "z=np.all(P[:,1:]==P[:,:-1],axis=1)\n",
    "P[~z]"
   ]
  },
  {
   "cell_type": "markdown",
   "id": "ba154f43",
   "metadata": {},
   "source": [
    "#### 95. Convert a vector of ints into a matrix binary representation (★★★)"
   ]
  },
  {
   "cell_type": "code",
   "execution_count": 156,
   "id": "cfa96e1b",
   "metadata": {},
   "outputs": [
    {
     "data": {
      "text/plain": [
       "array([[0, 0, 0, 0, 0, 0, 0, 0],\n",
       "       [1, 0, 0, 0, 0, 0, 0, 0],\n",
       "       [0, 1, 0, 0, 0, 0, 0, 0],\n",
       "       [1, 1, 0, 0, 0, 0, 0, 0],\n",
       "       [1, 1, 1, 1, 0, 0, 0, 0],\n",
       "       [0, 0, 0, 0, 1, 0, 0, 0],\n",
       "       [0, 0, 0, 0, 0, 1, 0, 0],\n",
       "       [0, 0, 0, 0, 0, 0, 1, 0],\n",
       "       [0, 0, 0, 0, 0, 0, 0, 1]])"
      ]
     },
     "execution_count": 156,
     "metadata": {},
     "output_type": "execute_result"
    }
   ],
   "source": [
    "I = np.array([0, 1, 2, 3, 15, 16, 32, 64, 128])\n",
    "B = ((I.reshape(-1,1) & (2**np.arange(8))) != 0).astype(int)\n",
    "print(B[:,::-1])"
   ]
  },
  {
   "cell_type": "markdown",
   "id": "420e2343",
   "metadata": {},
   "source": [
    "#### 96. Given a two dimensional array, how to extract unique rows? (★★★)"
   ]
  },
  {
   "cell_type": "code",
   "execution_count": 162,
   "id": "4680dfd0",
   "metadata": {},
   "outputs": [
    {
     "data": {
      "text/plain": [
       "array([[0, 1, 2],\n",
       "       [4, 4, 4]])"
      ]
     },
     "execution_count": 162,
     "metadata": {},
     "output_type": "execute_result"
    }
   ],
   "source": [
    "O=np.array([[0,1,2],[0,1,2],[4,4,4]])\n",
    "np.unique(O,axis=0)"
   ]
  },
  {
   "cell_type": "markdown",
   "id": "89fef2f3",
   "metadata": {},
   "source": [
    "#### 97. Considering 2 vectors A & B, write the einsum equivalent of inner, outer, sum, and mul function (★★★)"
   ]
  },
  {
   "cell_type": "code",
   "execution_count": 194,
   "id": "bb9c14b2",
   "metadata": {},
   "outputs": [
    {
     "data": {
      "text/plain": [
       "array([18, 64,  4, 15])"
      ]
     },
     "execution_count": 194,
     "metadata": {},
     "output_type": "execute_result"
    }
   ],
   "source": [
    "A=np.array([6,8,2,3])\n",
    "B=np.array([3,8,2,5])\n",
    "\n",
    "np.einsum(\"i,i\",A,B) #inner\n",
    "\n",
    "np.einsum(\"i,j\",A,B) #outer\n",
    "\n",
    "np.einsum(\"i->\",A) #sum\n",
    "\n",
    "np.einsum(\"i,i->i\",A,B) #multiply"
   ]
  },
  {
   "cell_type": "markdown",
   "id": "7ad5cc5f",
   "metadata": {},
   "source": [
    "#### 98. Considering a path described by two vectors (X,Y), how to sample it using equidistant samples (★★★)?"
   ]
  },
  {
   "cell_type": "code",
   "execution_count": 8,
   "id": "0899d1d5",
   "metadata": {},
   "outputs": [
    {
     "data": {
      "text/plain": [
       "array([ 0.00000000e+00, -3.73131229e-01, -2.59817608e+00, -3.26212050e+00,\n",
       "       -2.18442687e+00, -2.98929946e-02,  2.42923642e+00,  4.54913599e+00,\n",
       "        5.92318348e+00,  6.35117933e+00,  5.82369277e+00,  4.46259540e+00,\n",
       "        2.47320794e+00,  1.09577220e-01, -2.36575300e+00, -4.71261671e+00,\n",
       "       -6.72701769e+00, -8.25541575e+00, -9.18486120e+00, -9.46381505e+00,\n",
       "       -9.11085788e+00, -8.12875279e+00, -6.63306046e+00, -4.69271059e+00,\n",
       "       -2.44736165e+00, -2.05444585e-02,  2.46101146e+00,  4.86841760e+00,\n",
       "        7.08937968e+00,  9.02539126e+00,  1.05948609e+01,  1.17357250e+01,\n",
       "        1.24068974e+01,  1.25885805e+01,  1.22815267e+01,  1.15053927e+01,\n",
       "        1.02963689e+01,  8.70429550e+00,  6.78948686e+00,  4.61716636e+00,\n",
       "        2.25853448e+00, -1.98731680e-01, -2.68040566e+00, -5.11543300e+00,\n",
       "       -7.41973991e+00, -9.53891040e+00, -1.14237629e+01, -1.29919305e+01,\n",
       "       -1.42355069e+01, -1.51243232e+01, -1.56061571e+01, -1.57219415e+01,\n",
       "       -1.54217066e+01, -1.47579136e+01, -1.37255236e+01, -1.23634834e+01,\n",
       "       -1.07024632e+01, -8.78327367e+00, -6.65029558e+00, -4.35514246e+00,\n",
       "       -1.94290275e+00,  5.28038914e-01,  3.00985904e+00,  5.45450275e+00,\n",
       "        7.80093594e+00,  1.00179639e+01,  1.20595602e+01,  1.38732623e+01,\n",
       "        1.54564938e+01,  1.67497894e+01,  1.77435802e+01,  1.84439878e+01,\n",
       "        1.87990820e+01,  1.88271003e+01,  1.85472755e+01,  1.79378850e+01,\n",
       "        1.70105456e+01,  1.58085777e+01,  1.43501808e+01,  1.26222364e+01,\n",
       "        1.06905445e+01,  8.58498641e+00,  6.33562529e+00,  3.96179025e+00,\n",
       "        1.51802643e+00, -9.61699044e-01, -3.44349301e+00, -5.88951759e+00,\n",
       "       -8.26006582e+00, -1.05270865e+01, -1.26610269e+01, -1.46343020e+01,\n",
       "       -1.64206033e+01, -1.79708499e+01, -1.92894561e+01, -2.03605967e+01,\n",
       "       -2.11716587e+01, -2.17133504e+01, -2.19797677e+01, -2.19626531e+01,\n",
       "       -2.16476737e+01, -2.10622561e+01, -2.02145809e+01, -1.91158467e+01,\n",
       "       -1.77800930e+01, -1.62239930e+01, -1.44666197e+01, -1.25291882e+01,\n",
       "       -1.04347777e+01, -8.20773276e+00, -5.86978851e+00, -3.45563299e+00,\n",
       "       -9.92556869e-01,  1.49191203e+00,  3.97031733e+00,  6.41557503e+00,\n",
       "        8.80126359e+00,  1.11019001e+01,  1.32931995e+01,  1.53523150e+01,\n",
       "        1.72580567e+01,  1.89910866e+01,  2.05340895e+01,  2.18719167e+01,\n",
       "        2.29917039e+01,  2.38829603e+01,  2.45376309e+01,  2.49501314e+01,\n",
       "        2.51173551e+01,  2.50386548e+01,  2.47157984e+01,  2.41529019e+01,\n",
       "        2.33563391e+01,  2.23346314e+01,  2.10983193e+01,  1.96598169e+01,\n",
       "        1.80332532e+01,  1.62343003e+01,  1.42799934e+01,  1.21885425e+01,\n",
       "        9.97914013e+00,  7.67176574e+00,  5.28699023e+00,  2.84441658e+00,\n",
       "        3.68190102e-01, -2.11846865e+00, -4.59426061e+00, -7.03829202e+00,\n",
       "       -9.43024209e+00, -1.17505186e+01, -1.39803999e+01, -1.61021634e+01,\n",
       "       -1.80991985e+01, -1.99561058e+01, -2.16587804e+01, -2.31850397e+01,\n",
       "       -2.45166960e+01, -2.56568097e+01, -2.65976904e+01, -2.73332424e+01,\n",
       "       -2.78589555e+01, -2.81718833e+01, -2.82706110e+01, -2.81552119e+01,\n",
       "       -2.78066635e+01, -2.72341677e+01, -2.64578863e+01, -2.54844118e+01,\n",
       "       -2.43214986e+01, -2.29779690e+01, -2.14636172e+01, -1.97837046e+01,\n",
       "       -1.79341987e+01, -1.59545785e+01, -1.38585628e+01, -1.16602783e+01,\n",
       "       -9.37416511e+00, -7.01488958e+00, -4.59184632e+00, -2.12995331e+00,\n",
       "        3.50691071e-01,  2.83498918e+00,  5.30813450e+00,  7.75565814e+00,\n",
       "        1.01522531e+01,  1.24813227e+01,  1.47337756e+01,  1.68973642e+01,\n",
       "        1.89604991e+01,  2.09071945e+01,  2.26943693e+01,  2.43420179e+01,\n",
       "        2.58422998e+01,  2.71881423e+01,  2.83731992e+01,  2.93376609e+01,\n",
       "        3.01222558e+01,  3.07280750e+01,  3.11531219e+01,  3.13960177e+01])"
      ]
     },
     "execution_count": 8,
     "metadata": {},
     "output_type": "execute_result"
    }
   ],
   "source": [
    "import numpy as np\n",
    "phi = np.arange(0, 10*np.pi, 0.1)\n",
    "a = 1\n",
    "x = a*phi*np.cos(phi)\n",
    "y = a*phi*np.sin(phi)\n",
    "\n",
    "dr = (np.diff(x)**2 + np.diff(y)**2)**.5 # segment lengths\n",
    "r = np.zeros_like(x)\n",
    "r[1:] = np.cumsum(dr)                # integrate path\n",
    "r_int = np.linspace(0, r.max(), 200) # regular spaced path\n",
    "x_int = np.interp(r_int, r, x)       # integrate path\n",
    "y_int = np.interp(r_int, r, y)"
   ]
  },
  {
   "cell_type": "markdown",
   "id": "2b69272e",
   "metadata": {},
   "source": [
    "#### 99. Given an integer n and a 2D array X, select from X the rows which can be interpreted as draws from a multinomial distribution with n degrees, i.e., the rows which only contain integers and which sum to n. (★★★)"
   ]
  },
  {
   "cell_type": "code",
   "execution_count": 9,
   "id": "55c8b034",
   "metadata": {},
   "outputs": [
    {
     "name": "stdout",
     "output_type": "stream",
     "text": [
      "[[2. 0. 1. 1.]]\n"
     ]
    }
   ],
   "source": [
    "X = np.asarray([[1.0, 0.0, 3.0, 8.0],\n",
    "                [2.0, 0.0, 1.0, 1.0],\n",
    "                [1.5, 2.5, 1.0, 0.0]])\n",
    "n = 4\n",
    "M = np.logical_and.reduce(np.mod(X, 1) == 0, axis=-1)\n",
    "M &= (X.sum(axis=-1) == n)\n",
    "print(X[M])"
   ]
  },
  {
   "cell_type": "markdown",
   "id": "59ab5516",
   "metadata": {},
   "source": [
    "#### 100. Compute bootstrapped 95% confidence intervals for the mean of a 1D array X (i.e., resample the elements of an array with replacement N times, compute the mean of each sample, and then compute percentiles over the means). (★★★)"
   ]
  },
  {
   "cell_type": "code",
   "execution_count": 10,
   "id": "450877d8",
   "metadata": {},
   "outputs": [
    {
     "name": "stdout",
     "output_type": "stream",
     "text": [
      "[-0.25775825  0.15294656]\n"
     ]
    }
   ],
   "source": [
    "X = np.random.randn(100) # random 1D array\n",
    "N = 1000 # number of bootstrap samples\n",
    "idx = np.random.randint(0, X.size, (N, X.size))\n",
    "means = X[idx].mean(axis=1)\n",
    "confint = np.percentile(means, [2.5, 97.5])\n",
    "print(confint)"
   ]
  }
 ],
 "metadata": {
  "kernelspec": {
   "display_name": "Python 3",
   "language": "python",
   "name": "python3"
  },
  "language_info": {
   "codemirror_mode": {
    "name": "ipython",
    "version": 3
   },
   "file_extension": ".py",
   "mimetype": "text/x-python",
   "name": "python",
   "nbconvert_exporter": "python",
   "pygments_lexer": "ipython3",
   "version": "3.12.3"
  }
 },
 "nbformat": 4,
 "nbformat_minor": 5
}
